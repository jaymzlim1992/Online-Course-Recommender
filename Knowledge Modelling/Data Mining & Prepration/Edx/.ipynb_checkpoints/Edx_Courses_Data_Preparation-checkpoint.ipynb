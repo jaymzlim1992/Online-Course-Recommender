{
 "cells": [
  {
   "cell_type": "markdown",
   "metadata": {
    "id": "O-rjmhwxhX8n"
   },
   "source": [
    "# Online Course Recommender\n",
    "\n",
    "\n",
    "---\n",
    "\n",
    "\n",
    "## Practice Module: Intelligent Reasoning Systems (IRS)\n",
    "\n",
    "## Data Preparation: Edx Courses\n",
    "\n"
   ]
  },
  {
   "cell_type": "markdown",
   "metadata": {
    "id": "KzIgSbhfhlAZ"
   },
   "source": [
    "## 0. File Path & Library Setup"
   ]
  },
  {
   "cell_type": "code",
   "execution_count": 1,
   "metadata": {
    "colab": {
     "base_uri": "https://localhost:8080/"
    },
    "id": "eCMo9nsygtZo",
    "outputId": "b21e689f-8525-4254-b862-97ac9bd224ef"
   },
   "outputs": [
    {
     "name": "stdout",
     "output_type": "stream",
     "text": [
      "Versions of key libraries\n",
      "-------------------------\n",
      "pandas:   1.3.3\n",
      "numpy:    1.19.5\n"
     ]
    }
   ],
   "source": [
    "# Load All Necessary Packages\n",
    "\n",
    "import os\n",
    "# from google.colab import drive\n",
    "\n",
    "import pandas as pd\n",
    "import numpy as np\n",
    "\n",
    "seed = 18\n",
    "\n",
    "print('Versions of key libraries')\n",
    "print('-------------------------')\n",
    "print('pandas:  ', pd.__version__)\n",
    "print('numpy:   ', np.__version__)"
   ]
  },
  {
   "cell_type": "code",
   "execution_count": 2,
   "metadata": {
    "colab": {
     "base_uri": "https://localhost:8080/"
    },
    "id": "eg6I5tuFh1Qi",
    "outputId": "deedf5a0-88b3-46e6-8460-934baf0b5664"
   },
   "outputs": [
    {
     "name": "stdout",
     "output_type": "stream",
     "text": [
      "Working Directory: \n"
     ]
    },
    {
     "data": {
      "text/plain": [
       "'D:\\\\Personal\\\\Education\\\\NUS-ISS Mtech IS\\\\Course Materials\\\\1. Intelligent Reasoning Systems (IRS)\\\\0. IRS-PM_Practice Module\\\\Source Code\\\\Data Preparation\\\\Edx'"
      ]
     },
     "execution_count": 2,
     "metadata": {},
     "output_type": "execute_result"
    }
   ],
   "source": [
    "# # Mounting to Google Drive\n",
    "# drive.mount('/content/gdrive')\n",
    "\n",
    "# # Change Working Directory\n",
    "# os.chdir('/content/gdrive/My Drive/iss/irs_pm/')\n",
    "\n",
    "print('Working Directory: ')\n",
    "os.getcwd()"
   ]
  },
  {
   "cell_type": "code",
   "execution_count": 3,
   "metadata": {
    "id": "DSC0uKmHiHBP"
   },
   "outputs": [],
   "source": [
    "# Load Data (Raw Web Scrapped Data - Edx Courses)\n",
    "\n",
    "rawdata = pd.read_csv('Edx_Courses.csv')"
   ]
  },
  {
   "cell_type": "code",
   "execution_count": 4,
   "metadata": {
    "colab": {
     "base_uri": "https://localhost:8080/"
    },
    "id": "JbrO_8xtjDuT",
    "outputId": "f0ddebdc-fc8f-4847-92ad-6b31ad850198"
   },
   "outputs": [
    {
     "data": {
      "text/plain": [
       "(3506, 16)"
      ]
     },
     "execution_count": 4,
     "metadata": {},
     "output_type": "execute_result"
    }
   ],
   "source": [
    "rawdata.shape"
   ]
  },
  {
   "cell_type": "code",
   "execution_count": 5,
   "metadata": {
    "colab": {
     "base_uri": "https://localhost:8080/",
     "height": 310
    },
    "id": "ahKvL6gzo1Wx",
    "outputId": "a5566a3d-ca5e-4416-b1e4-b5fd61da9dce"
   },
   "outputs": [
    {
     "data": {
      "text/html": [
       "<div>\n",
       "<style scoped>\n",
       "    .dataframe tbody tr th:only-of-type {\n",
       "        vertical-align: middle;\n",
       "    }\n",
       "\n",
       "    .dataframe tbody tr th {\n",
       "        vertical-align: top;\n",
       "    }\n",
       "\n",
       "    .dataframe thead th {\n",
       "        text-align: right;\n",
       "    }\n",
       "</style>\n",
       "<table border=\"1\" class=\"dataframe\">\n",
       "  <thead>\n",
       "    <tr style=\"text-align: right;\">\n",
       "      <th></th>\n",
       "      <th>Course Name</th>\n",
       "      <th>Multi Categories</th>\n",
       "      <th>Course URL</th>\n",
       "      <th>Course Provider</th>\n",
       "      <th>Short Description</th>\n",
       "      <th>Long Description</th>\n",
       "      <th>Difficulty</th>\n",
       "      <th>Duration</th>\n",
       "      <th>Commitment</th>\n",
       "      <th>Number of Enrolled</th>\n",
       "      <th>Cost</th>\n",
       "      <th>Alternative Options</th>\n",
       "      <th>Language</th>\n",
       "      <th>Video Language</th>\n",
       "      <th>Instructors</th>\n",
       "      <th>Course Img</th>\n",
       "    </tr>\n",
       "  </thead>\n",
       "  <tbody>\n",
       "    <tr>\n",
       "      <th>0</th>\n",
       "      <td>Креативное предпринимательство и проектировани...</td>\n",
       "      <td>Business &amp; Management</td>\n",
       "      <td>https://www.edx.org/course/-10</td>\n",
       "      <td>ITMO University</td>\n",
       "      <td>Научитесь творческому и предпринимательскому м...</td>\n",
       "      <td>Креативность — это феномен человеческой души. ...</td>\n",
       "      <td>Introductory</td>\n",
       "      <td>5 weeks</td>\n",
       "      <td>1–2 hours per week</td>\n",
       "      <td>NaN</td>\n",
       "      <td>Free</td>\n",
       "      <td>$99 USD</td>\n",
       "      <td>Русский</td>\n",
       "      <td>Русский</td>\n",
       "      <td>['Olga Tikhomirova']</td>\n",
       "      <td>https://prod-discovery.edx-cdn.org/media/cours...</td>\n",
       "    </tr>\n",
       "    <tr>\n",
       "      <th>1</th>\n",
       "      <td>Landscape Techniques | 山水画技法</td>\n",
       "      <td>Art &amp; Culture</td>\n",
       "      <td>https://www.edx.org/course/-15</td>\n",
       "      <td>Tsinghua University</td>\n",
       "      <td>Chinese painting is an aesthetic representatio...</td>\n",
       "      <td>The purpose of this course ： is to improve stu...</td>\n",
       "      <td>Introductory</td>\n",
       "      <td>8 weeks</td>\n",
       "      <td>4–6 hours per week</td>\n",
       "      <td>NaN</td>\n",
       "      <td>Free</td>\n",
       "      <td>$139 USD</td>\n",
       "      <td>中文</td>\n",
       "      <td>English</td>\n",
       "      <td>['Jingwei Han']</td>\n",
       "      <td>https://prod-discovery.edx-cdn.org/media/cours...</td>\n",
       "    </tr>\n",
       "    <tr>\n",
       "      <th>2</th>\n",
       "      <td>Тяжелые ионы и синтез новых элементов: совреме...</td>\n",
       "      <td>Engineering, Physics</td>\n",
       "      <td>https://www.edx.org/course/-3</td>\n",
       "      <td>National Research Nuclear University</td>\n",
       "      <td>В курсе рассматриваются основы физики тяжелых ...</td>\n",
       "      <td>Предметом курса является одно из новых направл...</td>\n",
       "      <td>Intermediate</td>\n",
       "      <td>5 weeks</td>\n",
       "      <td>3–6 hours per week</td>\n",
       "      <td>NaN</td>\n",
       "      <td>Free</td>\n",
       "      <td>$49 USD</td>\n",
       "      <td>Русский</td>\n",
       "      <td>Русский</td>\n",
       "      <td>['Юрий Пенионжкевич']</td>\n",
       "      <td>https://prod-discovery.edx-cdn.org/media/cours...</td>\n",
       "    </tr>\n",
       "    <tr>\n",
       "      <th>3</th>\n",
       "      <td>Лазеры: физические основы и лазерные технологии</td>\n",
       "      <td>Engineering, Physics</td>\n",
       "      <td>https://www.edx.org/course/-4</td>\n",
       "      <td>National Research Nuclear University</td>\n",
       "      <td>Девиз курса - дать студентам необходимые знани...</td>\n",
       "      <td>Лазерные технологии с момента своего открытия ...</td>\n",
       "      <td>Intermediate</td>\n",
       "      <td>5 weeks</td>\n",
       "      <td>3–6 hours per week</td>\n",
       "      <td>NaN</td>\n",
       "      <td>Free</td>\n",
       "      <td>$49 USD</td>\n",
       "      <td>Русский</td>\n",
       "      <td>Русский</td>\n",
       "      <td>['Алексей Менушенков']</td>\n",
       "      <td>https://prod-discovery.edx-cdn.org/media/cours...</td>\n",
       "    </tr>\n",
       "    <tr>\n",
       "      <th>4</th>\n",
       "      <td>Особенности написания научно-технических текстов</td>\n",
       "      <td>Language, Social Sciences</td>\n",
       "      <td>https://www.edx.org/course/-5</td>\n",
       "      <td>National Research Nuclear University</td>\n",
       "      <td>Курс формирует навыки правильного использовани...</td>\n",
       "      <td>В настоящее время умение понимать и создавать ...</td>\n",
       "      <td>Intermediate</td>\n",
       "      <td>7 weeks</td>\n",
       "      <td>3–6 hours per week</td>\n",
       "      <td>NaN</td>\n",
       "      <td>Free</td>\n",
       "      <td>$49 USD</td>\n",
       "      <td>Русский</td>\n",
       "      <td>Русский</td>\n",
       "      <td>['Алевтина Сицына-Кудрявцева']</td>\n",
       "      <td>https://prod-discovery.edx-cdn.org/media/cours...</td>\n",
       "    </tr>\n",
       "  </tbody>\n",
       "</table>\n",
       "</div>"
      ],
      "text/plain": [
       "                                         Course Name  \\\n",
       "0  Креативное предпринимательство и проектировани...   \n",
       "1                       Landscape Techniques | 山水画技法   \n",
       "2  Тяжелые ионы и синтез новых элементов: совреме...   \n",
       "3    Лазеры: физические основы и лазерные технологии   \n",
       "4   Особенности написания научно-технических текстов   \n",
       "\n",
       "            Multi Categories                      Course URL  \\\n",
       "0      Business & Management  https://www.edx.org/course/-10   \n",
       "1              Art & Culture  https://www.edx.org/course/-15   \n",
       "2       Engineering, Physics   https://www.edx.org/course/-3   \n",
       "3       Engineering, Physics   https://www.edx.org/course/-4   \n",
       "4  Language, Social Sciences   https://www.edx.org/course/-5   \n",
       "\n",
       "                        Course Provider  \\\n",
       "0                       ITMO University   \n",
       "1                   Tsinghua University   \n",
       "2  National Research Nuclear University   \n",
       "3  National Research Nuclear University   \n",
       "4  National Research Nuclear University   \n",
       "\n",
       "                                   Short Description  \\\n",
       "0  Научитесь творческому и предпринимательскому м...   \n",
       "1  Chinese painting is an aesthetic representatio...   \n",
       "2  В курсе рассматриваются основы физики тяжелых ...   \n",
       "3  Девиз курса - дать студентам необходимые знани...   \n",
       "4  Курс формирует навыки правильного использовани...   \n",
       "\n",
       "                                    Long Description    Difficulty Duration  \\\n",
       "0  Креативность — это феномен человеческой души. ...  Introductory  5 weeks   \n",
       "1  The purpose of this course ： is to improve stu...  Introductory  8 weeks   \n",
       "2  Предметом курса является одно из новых направл...  Intermediate  5 weeks   \n",
       "3  Лазерные технологии с момента своего открытия ...  Intermediate  5 weeks   \n",
       "4  В настоящее время умение понимать и создавать ...  Intermediate  7 weeks   \n",
       "\n",
       "           Commitment Number of Enrolled  Cost Alternative Options Language  \\\n",
       "0  1–2 hours per week                NaN  Free             $99 USD  Русский   \n",
       "1  4–6 hours per week                NaN  Free            $139 USD       中文   \n",
       "2  3–6 hours per week                NaN  Free             $49 USD  Русский   \n",
       "3  3–6 hours per week                NaN  Free             $49 USD  Русский   \n",
       "4  3–6 hours per week                NaN  Free             $49 USD  Русский   \n",
       "\n",
       "  Video Language                     Instructors  \\\n",
       "0        Русский            ['Olga Tikhomirova']   \n",
       "1        English                 ['Jingwei Han']   \n",
       "2        Русский           ['Юрий Пенионжкевич']   \n",
       "3        Русский          ['Алексей Менушенков']   \n",
       "4        Русский  ['Алевтина Сицына-Кудрявцева']   \n",
       "\n",
       "                                          Course Img  \n",
       "0  https://prod-discovery.edx-cdn.org/media/cours...  \n",
       "1  https://prod-discovery.edx-cdn.org/media/cours...  \n",
       "2  https://prod-discovery.edx-cdn.org/media/cours...  \n",
       "3  https://prod-discovery.edx-cdn.org/media/cours...  \n",
       "4  https://prod-discovery.edx-cdn.org/media/cours...  "
      ]
     },
     "execution_count": 5,
     "metadata": {},
     "output_type": "execute_result"
    }
   ],
   "source": [
    "rawdata.head()"
   ]
  },
  {
   "cell_type": "markdown",
   "metadata": {
    "id": "ToFs-bQdoOa-"
   },
   "source": [
    "## 1. Helper functions"
   ]
  },
  {
   "cell_type": "code",
   "execution_count": 6,
   "metadata": {
    "id": "RtLly3NCiG-0"
   },
   "outputs": [],
   "source": [
    "# Filter for english courses\n",
    "\n",
    "list_lang = ['English', 'english', 'ENGLISH']\n",
    "\n",
    "def lang_eng(lang):\n",
    "  return (lang in list_lang)\n"
   ]
  },
  {
   "cell_type": "code",
   "execution_count": 7,
   "metadata": {
    "colab": {
     "base_uri": "https://localhost:8080/"
    },
    "id": "dug_UYteG4LA",
    "outputId": "6808a58e-b9d5-4d8b-aa63-debc31e0de9b"
   },
   "outputs": [
    {
     "name": "stdout",
     "output_type": "stream",
     "text": [
      "All levels of difficulty:\n",
      "['Introductory' 'Intermediate' 'Advanced']\n"
     ]
    }
   ],
   "source": [
    "# Convert course difficulty from string to numbers in increasing difficulty order\n",
    "\n",
    "print('All levels of difficulty:')\n",
    "print(rawdata['Difficulty'].unique())\n",
    "\n",
    "def conv_diff(diff_string):\n",
    "  if diff_string == 'Introductory':\n",
    "    diff = 0\n",
    "  elif diff_string == 'Intermediate':\n",
    "    diff = 1\n",
    "  else:\n",
    "    diff = 2\n",
    "  return diff\n",
    "  "
   ]
  },
  {
   "cell_type": "code",
   "execution_count": 8,
   "metadata": {
    "id": "LzWRSPMd75yo"
   },
   "outputs": [],
   "source": [
    "# Get course week duration given a string of 'Course Duration'\n",
    "\n",
    "def cal_cw(course_duration):\n",
    "  if pd.isna(course_duration):\n",
    "    cw = np.nan\n",
    "  else:\n",
    "    cw = course_duration.split(' ')[0]\n",
    "    cw = int(cw)\n",
    "  return cw\n"
   ]
  },
  {
   "cell_type": "code",
   "execution_count": 9,
   "metadata": {
    "id": "iaMOWsXY8AnZ"
   },
   "outputs": [],
   "source": [
    "# Get average hours per week given a string of 'Commitment'\n",
    "\n",
    "def cal_ahpw(commitment):\n",
    "  if pd.isna(commitment):\n",
    "    ahpw = np.nan\n",
    "  else:\n",
    "    list_hours = commitment.split(' ')[0].split('–')\n",
    "    list_hours = [int(x) for x in list_hours]\n",
    "    if len(list_hours) == 1:\n",
    "      ahpw = list_hours[0]\n",
    "    else:\n",
    "      ahpw = np.mean(list_hours)\n",
    "  return ahpw\n",
    "  "
   ]
  },
  {
   "cell_type": "code",
   "execution_count": 10,
   "metadata": {
    "id": "XkqbVHBQrTrb"
   },
   "outputs": [],
   "source": [
    "# Convert course duration in hours to categorical\n",
    "\n",
    "def conv_dur(dur):\n",
    "  if pd.isna(dur):\n",
    "    cat_dur = np.nan\n",
    "  elif (dur > 0) and (dur <= 10):\n",
    "    cat_dur = 0\n",
    "  elif (dur > 10) and (dur <= 50):\n",
    "    cat_dur = 1\n",
    "  else:\n",
    "    cat_dur = 2\n",
    "  return cat_dur"
   ]
  },
  {
   "cell_type": "code",
   "execution_count": 11,
   "metadata": {
    "id": "vX_b1Juc1vo4"
   },
   "outputs": [],
   "source": [
    "# Filter for non empty value Course Duration\n",
    "week_nonna = np.array((rawdata['Duration'].isna() == False))\n",
    "\n",
    "# Filter for non empty value Commitment \n",
    "com_nonna = np.array((rawdata['Commitment'].isna() == False))\n",
    "\n",
    "# Filter for non empty value for both Course Duration and Commitment\n",
    "dur_nonna = week_nonna * com_nonna\n",
    "\n",
    "# Calculate global average course duration\n",
    "gdur = (np.array(rawdata['Duration'][dur_nonna].apply(lambda x: cal_cw(x))) \\\n",
    "         * np.array(rawdata['Commitment'][dur_nonna].apply(lambda x: cal_ahpw(x)))).sum() \\\n",
    "         / dur_nonna.sum()\n",
    "\n",
    "\n",
    "# Calculate course duration in hours\n",
    "# cw - course week duration\n",
    "# ahpw - average hours per week\n",
    "# ahpw = cw * ahpw\n",
    "\n",
    "def cal_dur(week_dur, commt):\n",
    "  cw = cal_cw(week_dur)\n",
    "  ahpw = cal_ahpw(commt)\n",
    "  if pd.isna(cw):\n",
    "    dur = np.nan\n",
    "  elif (not(pd.isna(cw)) and pd.isna(ahpw)):\n",
    "    dur = gdur # for courses with number of weeks but not average hours per week info\n",
    "  else: \n",
    "    dur = cw*ahpw\n",
    "  return conv_dur(dur)\n"
   ]
  },
  {
   "cell_type": "markdown",
   "metadata": {
    "id": "irahpk--1wGX"
   },
   "source": [
    "## 2. Preprocess Data"
   ]
  },
  {
   "cell_type": "markdown",
   "metadata": {
    "id": "8dfcMt5oEQnv"
   },
   "source": [
    "### i. Filter English Courses Only"
   ]
  },
  {
   "cell_type": "code",
   "execution_count": 12,
   "metadata": {
    "id": "Bgn3QCJqiGyk"
   },
   "outputs": [],
   "source": [
    "# Get language filter\n",
    "\n",
    "lang_fil = rawdata['Language'].apply(lambda x: lang_eng(x))\n",
    "data_lang = rawdata['Language']"
   ]
  },
  {
   "cell_type": "markdown",
   "metadata": {
    "id": "U1LMiIF3ERyW"
   },
   "source": [
    "### ii. Get Course Name Column"
   ]
  },
  {
   "cell_type": "code",
   "execution_count": 13,
   "metadata": {
    "id": "fXdCrX2QEbk0"
   },
   "outputs": [],
   "source": [
    "# Extract Course Name Column\n",
    "\n",
    "data_name = rawdata['Course Name']"
   ]
  },
  {
   "cell_type": "markdown",
   "metadata": {
    "id": "8SWo8yjNEb6M"
   },
   "source": [
    "### iii. Get Course URLs"
   ]
  },
  {
   "cell_type": "code",
   "execution_count": 14,
   "metadata": {
    "id": "6s3q_flTEcMw"
   },
   "outputs": [],
   "source": [
    "# Extract Course URLs Column\n",
    "\n",
    "data_url = rawdata['Course URL']"
   ]
  },
  {
   "cell_type": "markdown",
   "metadata": {
    "id": "9x1E24UeWFbk"
   },
   "source": [
    "### iv. Get Course Category"
   ]
  },
  {
   "cell_type": "code",
   "execution_count": 15,
   "metadata": {
    "id": "vLz7h2H8WFAE"
   },
   "outputs": [],
   "source": [
    "# Extract Course Categories\n",
    "\n",
    "data_cat = rawdata['Multi Categories']"
   ]
  },
  {
   "cell_type": "markdown",
   "metadata": {
    "id": "LJQtKKfSEcnP"
   },
   "source": [
    "### v. Get Course Description"
   ]
  },
  {
   "cell_type": "code",
   "execution_count": 16,
   "metadata": {
    "id": "V6tsHrIcEdb7"
   },
   "outputs": [],
   "source": [
    "# Extract Course Short Description\n",
    "\n",
    "data_sdesc = rawdata['Short Description'].apply(lambda x: '' if pd.isna(x) else x)\n"
   ]
  },
  {
   "cell_type": "code",
   "execution_count": 17,
   "metadata": {
    "id": "TFfhE1CkW1J0"
   },
   "outputs": [],
   "source": [
    "# Extract Course Long Description\n",
    "\n",
    "data_ldesc = rawdata['Long Description'].apply(lambda x: '' if pd.isna(x) else x)"
   ]
  },
  {
   "cell_type": "markdown",
   "metadata": {
    "id": "S2wF9Dz3Erxv"
   },
   "source": [
    "### vi. Get Course Difficulty"
   ]
  },
  {
   "cell_type": "code",
   "execution_count": 18,
   "metadata": {
    "colab": {
     "base_uri": "https://localhost:8080/"
    },
    "id": "YD28RHPaEr-a",
    "outputId": "978838ce-8691-4ea7-e216-96dcf06822b5"
   },
   "outputs": [
    {
     "name": "stdout",
     "output_type": "stream",
     "text": [
      "All levels of difficulty:\n",
      "['Introductory' 'Intermediate' 'Advanced']\n"
     ]
    }
   ],
   "source": [
    "# Extract Course Difficulty, one-hot encoded\n",
    "\n",
    "print('All levels of difficulty:')\n",
    "print(rawdata['Difficulty'].unique())\n",
    "data_diffcat = rawdata['Difficulty'].apply(lambda x: conv_diff(x))"
   ]
  },
  {
   "cell_type": "markdown",
   "metadata": {
    "id": "DMNDWGJTEsTB"
   },
   "source": [
    "### vii. Get Course Duration"
   ]
  },
  {
   "cell_type": "code",
   "execution_count": 19,
   "metadata": {
    "id": "oAWRuS6pEsn0"
   },
   "outputs": [],
   "source": [
    "# Get Course Duration in unit of hours\n",
    "\n",
    "data_durcat = rawdata[['Duration',\t'Commitment']].apply(lambda x: cal_dur(x[0],x[1]), axis=1)\n"
   ]
  },
  {
   "cell_type": "markdown",
   "metadata": {
    "id": "vt4PoKK_u9Ce"
   },
   "source": [
    "### viii. Free Option"
   ]
  },
  {
   "cell_type": "code",
   "execution_count": 20,
   "metadata": {
    "id": "9kGa5aqyu8yo"
   },
   "outputs": [],
   "source": [
    "# Check if free option is available\n",
    "\n",
    "data_costcat = rawdata['Cost'].apply(lambda x: 1 if x == 'Free' else 0)"
   ]
  },
  {
   "cell_type": "markdown",
   "metadata": {
    "id": "V6i0kc5VEs0p"
   },
   "source": [
    "### viv. Get Course Rating"
   ]
  },
  {
   "cell_type": "code",
   "execution_count": 21,
   "metadata": {
    "id": "sZzAQr03EtIb"
   },
   "outputs": [],
   "source": [
    "# Get Course Rating as normalized number of enrolls\n",
    "\n",
    "\n",
    "data_enroll = rawdata['Number of Enrolled'].apply(lambda x: '0' if pd.isna(x) else x)\n",
    "data_enroll = data_enroll.apply(lambda x: x.replace(',', ''))\n",
    "data_enroll = data_enroll.apply(lambda x: int(x))\n",
    "# rat_min = data_ratcount.min()\n",
    "# rat_max = data_ratcount.max()\n",
    "\n",
    "# data_rat = (data_ratcount - rat_min) / (rat_max - rat_min) # normalized\n",
    "data_rat = np.zeros(data_enroll.shape[0])"
   ]
  },
  {
   "cell_type": "markdown",
   "metadata": {
    "id": "ugMFWJhNvKew"
   },
   "source": [
    "### x. Paid Option"
   ]
  },
  {
   "cell_type": "code",
   "execution_count": 22,
   "metadata": {
    "id": "NaCpdjqrvKup"
   },
   "outputs": [],
   "source": [
    "# Get Cost for paid option\n",
    "data_paid = rawdata['Alternative Options']"
   ]
  },
  {
   "cell_type": "markdown",
   "metadata": {
    "id": "W5Nakr-1L4vt"
   },
   "source": [
    "### xi. Get Subtitle Language"
   ]
  },
  {
   "cell_type": "code",
   "execution_count": 23,
   "metadata": {
    "id": "7lK44izoL4cv"
   },
   "outputs": [],
   "source": [
    "# Get course list of subtitle language available\n",
    "\n",
    "data_sublang = rawdata['Video Language']"
   ]
  },
  {
   "cell_type": "markdown",
   "metadata": {
    "id": "q77RZgwAr4DG"
   },
   "source": [
    "### xii. Adding a Column for platform identifier"
   ]
  },
  {
   "cell_type": "code",
   "execution_count": 24,
   "metadata": {
    "id": "Dj7fPPOdr4Sc"
   },
   "outputs": [],
   "source": [
    "# Add Platform name\n",
    "# 0 - Edx\n",
    "\n",
    "data_plat = np.zeros(rawdata.shape[0])"
   ]
  },
  {
   "cell_type": "markdown",
   "metadata": {
    "id": "T0H7jAqyVNGc"
   },
   "source": [
    "### xiii. Get Course Provider\n"
   ]
  },
  {
   "cell_type": "code",
   "execution_count": 25,
   "metadata": {
    "id": "csviYnyfVMCP"
   },
   "outputs": [],
   "source": [
    "# Course Provider\n",
    "\n",
    "data_prov = rawdata['Course Provider']"
   ]
  },
  {
   "cell_type": "markdown",
   "metadata": {
    "id": "5GAUgRUQVRmc"
   },
   "source": [
    "### xiv. Get Course Image URL"
   ]
  },
  {
   "cell_type": "code",
   "execution_count": 26,
   "metadata": {
    "id": "vWqtlwZ_VR6f"
   },
   "outputs": [],
   "source": [
    "# Get Course Image URL\n",
    "\n",
    "data_img = rawdata['Course Img']"
   ]
  },
  {
   "cell_type": "markdown",
   "metadata": {
    "id": "X0lV992lU-if"
   },
   "source": [
    "## 3. Combine data "
   ]
  },
  {
   "cell_type": "code",
   "execution_count": 27,
   "metadata": {
    "id": "XoDoxSUduTeh"
   },
   "outputs": [],
   "source": [
    "# Combine Data\n",
    "\n",
    "data_header = ['Name', 'URL', 'Categories', 'Short Description', 'Long Description', 'Difficulty', 'Duration', 'Free Option', 'Number of Enroll', 'Rating', 'Paid Option', 'Language', 'Subtitle Language', 'Platform', 'Provider', 'Image URL']\n",
    "data_comb = np.array([data_name, data_url, data_cat, data_sdesc, data_ldesc, data_diffcat, data_durcat, data_costcat, data_enroll, data_rat, data_paid, data_lang, data_sublang, data_plat, data_prov, data_img]).transpose()"
   ]
  },
  {
   "cell_type": "code",
   "execution_count": 28,
   "metadata": {
    "colab": {
     "base_uri": "https://localhost:8080/"
    },
    "id": "HcHX8ANT6Emm",
    "outputId": "318c23cb-cf93-456a-916f-164e0f8d3cd8"
   },
   "outputs": [
    {
     "data": {
      "text/plain": [
       "(2688, 16)"
      ]
     },
     "execution_count": 28,
     "metadata": {},
     "output_type": "execute_result"
    }
   ],
   "source": [
    "# Filter for English Course only\n",
    "\n",
    "data = pd.DataFrame(data_comb[lang_fil,:], columns=data_header)\n",
    "data.shape"
   ]
  },
  {
   "cell_type": "code",
   "execution_count": 29,
   "metadata": {
    "colab": {
     "base_uri": "https://localhost:8080/",
     "height": 310
    },
    "id": "-OtYknLPpa80",
    "outputId": "2663832e-955f-4c0e-e909-78e96a6cbf7c"
   },
   "outputs": [
    {
     "data": {
      "text/html": [
       "<div>\n",
       "<style scoped>\n",
       "    .dataframe tbody tr th:only-of-type {\n",
       "        vertical-align: middle;\n",
       "    }\n",
       "\n",
       "    .dataframe tbody tr th {\n",
       "        vertical-align: top;\n",
       "    }\n",
       "\n",
       "    .dataframe thead th {\n",
       "        text-align: right;\n",
       "    }\n",
       "</style>\n",
       "<table border=\"1\" class=\"dataframe\">\n",
       "  <thead>\n",
       "    <tr style=\"text-align: right;\">\n",
       "      <th></th>\n",
       "      <th>Name</th>\n",
       "      <th>URL</th>\n",
       "      <th>Categories</th>\n",
       "      <th>Short Description</th>\n",
       "      <th>Long Description</th>\n",
       "      <th>Difficulty</th>\n",
       "      <th>Duration</th>\n",
       "      <th>Free Option</th>\n",
       "      <th>Number of Enroll</th>\n",
       "      <th>Rating</th>\n",
       "      <th>Paid Option</th>\n",
       "      <th>Language</th>\n",
       "      <th>Subtitle Language</th>\n",
       "      <th>Platform</th>\n",
       "      <th>Provider</th>\n",
       "      <th>Image URL</th>\n",
       "    </tr>\n",
       "  </thead>\n",
       "  <tbody>\n",
       "    <tr>\n",
       "      <th>0</th>\n",
       "      <td>创业101: 你的客户是谁？</td>\n",
       "      <td>https://www.edx.org/course/101-2</td>\n",
       "      <td>Business &amp; Management</td>\n",
       "      <td>如果注册《创业101:谁是你的客户？》的认证证书，并且通过课程考核，将会获得有效期为1年的价...</td>\n",
       "      <td>很多看起来似乎很伟大的想法和科技在碰到一个简单、不可避免的问题时都会突然卡壳。这个问题就是：...</td>\n",
       "      <td>0</td>\n",
       "      <td>1.0</td>\n",
       "      <td>1</td>\n",
       "      <td>0</td>\n",
       "      <td>0.0</td>\n",
       "      <td>$100 USD</td>\n",
       "      <td>English</td>\n",
       "      <td>中文</td>\n",
       "      <td>0.0</td>\n",
       "      <td>Massachusetts Institute of Technology</td>\n",
       "      <td>https://prod-discovery.edx-cdn.org/media/cours...</td>\n",
       "    </tr>\n",
       "    <tr>\n",
       "      <th>1</th>\n",
       "      <td>创业102: 你能为客户做什么？</td>\n",
       "      <td>https://www.edx.org/course/102-2</td>\n",
       "      <td>Business &amp; Management</td>\n",
       "      <td>如果注册《创业102:你能为客户做什么？》的认证证书，并且通过课程考核，将会获得有效期为1年...</td>\n",
       "      <td>不要在意你的客户能为你做什么——而是要关注你能为你的客户做些什么。\\n在《创业101》中，我...</td>\n",
       "      <td>0</td>\n",
       "      <td>1.0</td>\n",
       "      <td>1</td>\n",
       "      <td>0</td>\n",
       "      <td>0.0</td>\n",
       "      <td>$100 USD</td>\n",
       "      <td>English</td>\n",
       "      <td>中文</td>\n",
       "      <td>0.0</td>\n",
       "      <td>Massachusetts Institute of Technology</td>\n",
       "      <td>https://prod-discovery.edx-cdn.org/media/cours...</td>\n",
       "    </tr>\n",
       "    <tr>\n",
       "      <th>2</th>\n",
       "      <td>18th-Century Opera: Handel &amp; Mozart</td>\n",
       "      <td>https://www.edx.org/course/18th-century-opera-...</td>\n",
       "      <td>Art &amp; Culture, History, Music</td>\n",
       "      <td>Study Baroque and Classical opera through Hand...</td>\n",
       "      <td>In this breathtaking course, you'll get to kno...</td>\n",
       "      <td>0</td>\n",
       "      <td>1.0</td>\n",
       "      <td>1</td>\n",
       "      <td>22646</td>\n",
       "      <td>0.0</td>\n",
       "      <td>$139 USD</td>\n",
       "      <td>English</td>\n",
       "      <td>English</td>\n",
       "      <td>0.0</td>\n",
       "      <td>Harvard University</td>\n",
       "      <td>https://prod-discovery.edx-cdn.org/media/cours...</td>\n",
       "    </tr>\n",
       "    <tr>\n",
       "      <th>3</th>\n",
       "      <td>19th-Century Opera: Meyerbeer, Wagner, &amp; Verdi</td>\n",
       "      <td>https://www.edx.org/course/19th-century-opera-...</td>\n",
       "      <td>Art &amp; Culture, History, Music</td>\n",
       "      <td>Learn the music and cultural impact of three c...</td>\n",
       "      <td>Travel through central Europe in the 1800s to ...</td>\n",
       "      <td>0</td>\n",
       "      <td>1.0</td>\n",
       "      <td>1</td>\n",
       "      <td>11619</td>\n",
       "      <td>0.0</td>\n",
       "      <td>$139 USD</td>\n",
       "      <td>English</td>\n",
       "      <td>English</td>\n",
       "      <td>0.0</td>\n",
       "      <td>Harvard University</td>\n",
       "      <td>https://prod-discovery.edx-cdn.org/media/cours...</td>\n",
       "    </tr>\n",
       "    <tr>\n",
       "      <th>4</th>\n",
       "      <td>3D GIS</td>\n",
       "      <td>https://www.edx.org/course/3d-gis</td>\n",
       "      <td>Data Analysis &amp; Statistics, Energy &amp; Earth Sci...</td>\n",
       "      <td>Take your maps into the third dimension: Learn...</td>\n",
       "      <td>Maps are graphic representations of reality an...</td>\n",
       "      <td>1</td>\n",
       "      <td>1.0</td>\n",
       "      <td>1</td>\n",
       "      <td>0</td>\n",
       "      <td>0.0</td>\n",
       "      <td>$149 USD</td>\n",
       "      <td>English</td>\n",
       "      <td>English</td>\n",
       "      <td>0.0</td>\n",
       "      <td>University of Alaska Fairbanks</td>\n",
       "      <td>https://prod-discovery.edx-cdn.org/media/cours...</td>\n",
       "    </tr>\n",
       "  </tbody>\n",
       "</table>\n",
       "</div>"
      ],
      "text/plain": [
       "                                             Name  \\\n",
       "0                                  创业101: 你的客户是谁？   \n",
       "1                                创业102: 你能为客户做什么？   \n",
       "2             18th-Century Opera: Handel & Mozart   \n",
       "3  19th-Century Opera: Meyerbeer, Wagner, & Verdi   \n",
       "4                                          3D GIS   \n",
       "\n",
       "                                                 URL  \\\n",
       "0                   https://www.edx.org/course/101-2   \n",
       "1                   https://www.edx.org/course/102-2   \n",
       "2  https://www.edx.org/course/18th-century-opera-...   \n",
       "3  https://www.edx.org/course/19th-century-opera-...   \n",
       "4                  https://www.edx.org/course/3d-gis   \n",
       "\n",
       "                                          Categories  \\\n",
       "0                              Business & Management   \n",
       "1                              Business & Management   \n",
       "2                      Art & Culture, History, Music   \n",
       "3                      Art & Culture, History, Music   \n",
       "4  Data Analysis & Statistics, Energy & Earth Sci...   \n",
       "\n",
       "                                   Short Description  \\\n",
       "0  如果注册《创业101:谁是你的客户？》的认证证书，并且通过课程考核，将会获得有效期为1年的价...   \n",
       "1  如果注册《创业102:你能为客户做什么？》的认证证书，并且通过课程考核，将会获得有效期为1年...   \n",
       "2  Study Baroque and Classical opera through Hand...   \n",
       "3  Learn the music and cultural impact of three c...   \n",
       "4  Take your maps into the third dimension: Learn...   \n",
       "\n",
       "                                    Long Description Difficulty Duration  \\\n",
       "0  很多看起来似乎很伟大的想法和科技在碰到一个简单、不可避免的问题时都会突然卡壳。这个问题就是：...          0      1.0   \n",
       "1  不要在意你的客户能为你做什么——而是要关注你能为你的客户做些什么。\\n在《创业101》中，我...          0      1.0   \n",
       "2  In this breathtaking course, you'll get to kno...          0      1.0   \n",
       "3  Travel through central Europe in the 1800s to ...          0      1.0   \n",
       "4  Maps are graphic representations of reality an...          1      1.0   \n",
       "\n",
       "  Free Option Number of Enroll Rating Paid Option Language Subtitle Language  \\\n",
       "0           1                0    0.0    $100 USD  English                中文   \n",
       "1           1                0    0.0    $100 USD  English                中文   \n",
       "2           1            22646    0.0    $139 USD  English           English   \n",
       "3           1            11619    0.0    $139 USD  English           English   \n",
       "4           1                0    0.0    $149 USD  English           English   \n",
       "\n",
       "  Platform                               Provider  \\\n",
       "0      0.0  Massachusetts Institute of Technology   \n",
       "1      0.0  Massachusetts Institute of Technology   \n",
       "2      0.0                     Harvard University   \n",
       "3      0.0                     Harvard University   \n",
       "4      0.0         University of Alaska Fairbanks   \n",
       "\n",
       "                                           Image URL  \n",
       "0  https://prod-discovery.edx-cdn.org/media/cours...  \n",
       "1  https://prod-discovery.edx-cdn.org/media/cours...  \n",
       "2  https://prod-discovery.edx-cdn.org/media/cours...  \n",
       "3  https://prod-discovery.edx-cdn.org/media/cours...  \n",
       "4  https://prod-discovery.edx-cdn.org/media/cours...  "
      ]
     },
     "execution_count": 29,
     "metadata": {},
     "output_type": "execute_result"
    }
   ],
   "source": [
    "data.head()"
   ]
  },
  {
   "cell_type": "code",
   "execution_count": 30,
   "metadata": {},
   "outputs": [
    {
     "name": "stdout",
     "output_type": "stream",
     "text": [
      "<class 'pandas.core.frame.DataFrame'>\n",
      "RangeIndex: 2688 entries, 0 to 2687\n",
      "Data columns (total 16 columns):\n",
      " #   Column             Non-Null Count  Dtype \n",
      "---  ------             --------------  ----- \n",
      " 0   Name               2688 non-null   object\n",
      " 1   URL                2688 non-null   object\n",
      " 2   Categories         2688 non-null   object\n",
      " 3   Short Description  2688 non-null   object\n",
      " 4   Long Description   2688 non-null   object\n",
      " 5   Difficulty         2688 non-null   object\n",
      " 6   Duration           2682 non-null   object\n",
      " 7   Free Option        2688 non-null   object\n",
      " 8   Number of Enroll   2688 non-null   object\n",
      " 9   Rating             2688 non-null   object\n",
      " 10  Paid Option        2574 non-null   object\n",
      " 11  Language           2688 non-null   object\n",
      " 12  Subtitle Language  2688 non-null   object\n",
      " 13  Platform           2688 non-null   object\n",
      " 14  Provider           2585 non-null   object\n",
      " 15  Image URL          2688 non-null   object\n",
      "dtypes: object(16)\n",
      "memory usage: 336.1+ KB\n"
     ]
    }
   ],
   "source": [
    "data.info()"
   ]
  },
  {
   "cell_type": "code",
   "execution_count": 31,
   "metadata": {},
   "outputs": [
    {
     "data": {
      "text/plain": [
       "Name                   0\n",
       "URL                    0\n",
       "Categories             0\n",
       "Short Description      0\n",
       "Long Description       0\n",
       "Difficulty             0\n",
       "Duration               6\n",
       "Free Option            0\n",
       "Number of Enroll       0\n",
       "Rating                 0\n",
       "Paid Option          114\n",
       "Language               0\n",
       "Subtitle Language      0\n",
       "Platform               0\n",
       "Provider             103\n",
       "Image URL              0\n",
       "dtype: int64"
      ]
     },
     "execution_count": 31,
     "metadata": {},
     "output_type": "execute_result"
    }
   ],
   "source": [
    "(data.isna()).sum()"
   ]
  },
  {
   "cell_type": "markdown",
   "metadata": {
    "id": "_UbYAEjDU9sP"
   },
   "source": [
    "## 4. Save Output to file"
   ]
  },
  {
   "cell_type": "code",
   "execution_count": 32,
   "metadata": {},
   "outputs": [
    {
     "data": {
      "text/plain": [
       "'https://www.edx.org/course/accounting-principles-for-ma'"
      ]
     },
     "execution_count": 32,
     "metadata": {},
     "output_type": "execute_result"
    }
   ],
   "source": [
    "data['URL'][43]"
   ]
  },
  {
   "cell_type": "code",
   "execution_count": 33,
   "metadata": {
    "id": "cesQhGXjUJ13"
   },
   "outputs": [],
   "source": [
    "filename = 'Edx_Data.csv'\n",
    "data.to_csv(filename, index=False, encoding='utf_8_sig')"
   ]
  }
 ],
 "metadata": {
  "colab": {
   "collapsed_sections": [],
   "name": "Edx_Courses_Data_Preparation.ipynb",
   "provenance": []
  },
  "kernelspec": {
   "display_name": "Python [conda env:py39_gpu1]",
   "language": "python",
   "name": "conda-env-py39_gpu1-py"
  },
  "language_info": {
   "codemirror_mode": {
    "name": "ipython",
    "version": 3
   },
   "file_extension": ".py",
   "mimetype": "text/x-python",
   "name": "python",
   "nbconvert_exporter": "python",
   "pygments_lexer": "ipython3",
   "version": "3.9.7"
  }
 },
 "nbformat": 4,
 "nbformat_minor": 4
}
