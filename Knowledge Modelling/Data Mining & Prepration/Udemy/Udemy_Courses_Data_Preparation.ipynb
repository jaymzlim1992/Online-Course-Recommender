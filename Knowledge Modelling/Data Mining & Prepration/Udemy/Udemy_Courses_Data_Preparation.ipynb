{
  "nbformat": 4,
  "nbformat_minor": 0,
  "metadata": {
    "colab": {
      "name": "Udemy_Courses_Data_Preparation.ipynb",
      "provenance": [],
      "collapsed_sections": [
        "6bNK4aTUrq38",
        "iFuXh6tVl1xI",
        "4pVeyUszY4_M",
        "irahpk--1wGX",
        "U1LMiIF3ERyW",
        "R988BL7Z5l3K",
        "S2wF9Dz3Erxv",
        "DMNDWGJTEsTB",
        "8fzFq4ruNe8A",
        "V6i0kc5VEs0p",
        "W5Nakr-1L4vt",
        "YFO-pvcyMGEC",
        "X0lV992lU-if"
      ]
    },
    "kernelspec": {
      "name": "python3",
      "display_name": "Python 3"
    },
    "language_info": {
      "name": "python"
    }
  },
  "cells": [
    {
      "cell_type": "markdown",
      "metadata": {
        "id": "O-rjmhwxhX8n"
      },
      "source": [
        "# Online Course Recommender\n",
        "\n",
        "\n",
        "---\n",
        "\n",
        "\n",
        "## Practice Module: Intelligent Reasoning Systems (IRS)\n",
        "\n",
        "## Data Preparation: Udemy Courses\n",
        "\n",
        "\n"
      ]
    },
    {
      "cell_type": "markdown",
      "metadata": {
        "id": "KzIgSbhfhlAZ"
      },
      "source": [
        "## File Path & Library Setup & final df setup"
      ]
    },
    {
      "cell_type": "code",
      "metadata": {
        "colab": {
          "base_uri": "https://localhost:8080/"
        },
        "id": "eCMo9nsygtZo",
        "outputId": "05f12f0e-8736-45e9-958a-1738d4edc8b4"
      },
      "source": [
        "# Load All Necessary Packages\n",
        "\n",
        "import os\n",
        "from google.colab import drive\n",
        "\n",
        "import re\n",
        "import pandas as pd\n",
        "import numpy as np\n",
        "\n",
        "seed = 18\n",
        "\n",
        "print('Versions of key libraries')\n",
        "print('-------------------------')\n",
        "print('pandas:  ', pd.__version__)\n",
        "print('numpy:   ', np.__version__)"
      ],
      "execution_count": null,
      "outputs": [
        {
          "output_type": "stream",
          "name": "stdout",
          "text": [
            "Versions of key libraries\n",
            "-------------------------\n",
            "pandas:   1.1.5\n",
            "numpy:    1.19.5\n"
          ]
        }
      ]
    },
    {
      "cell_type": "code",
      "metadata": {
        "id": "DSC0uKmHiHBP"
      },
      "source": [
        "# Load Data (Raw Web Scrapped Data - Udemy Courses)\n",
        "os.chdir('/content')\n",
        "rawdata = pd.read_csv('v_courses_info_business.csv')"
      ],
      "execution_count": null,
      "outputs": []
    },
    {
      "cell_type": "code",
      "metadata": {
        "colab": {
          "base_uri": "https://localhost:8080/"
        },
        "id": "JbrO_8xtjDuT",
        "outputId": "2674d3ef-7c37-4c56-9234-309f07d73370"
      },
      "source": [
        "rawdata.shape"
      ],
      "execution_count": null,
      "outputs": [
        {
          "output_type": "execute_result",
          "data": {
            "text/plain": [
              "(9986, 14)"
            ]
          },
          "metadata": {},
          "execution_count": 406
        }
      ]
    },
    {
      "cell_type": "code",
      "metadata": {
        "id": "ahKvL6gzo1Wx"
      },
      "source": [
        "rawdata.head()\n",
        "df = rawdata.copy()"
      ],
      "execution_count": null,
      "outputs": []
    },
    {
      "cell_type": "code",
      "metadata": {
        "colab": {
          "base_uri": "https://localhost:8080/",
          "height": 86
        },
        "id": "rGsxhXpfmwQu",
        "outputId": "69582289-c0d4-401c-f150-770c3536ba14"
      },
      "source": [
        "final = pd.DataFrame(columns = ['Course Name','Course URL','Categories','Short Description', 'Long Description', 'Difficulty', 'Duration', 'Free Option', 'Rating', 'Original rating', 'Numberofrated', 'Numberofenroll', 'Paid Option', 'Language', 'Subtitle Language', 'Platform', 'Provider', 'Image URL'])\n",
        "final"
      ],
      "execution_count": null,
      "outputs": [
        {
          "output_type": "execute_result",
          "data": {
            "text/html": [
              "<div>\n",
              "<style scoped>\n",
              "    .dataframe tbody tr th:only-of-type {\n",
              "        vertical-align: middle;\n",
              "    }\n",
              "\n",
              "    .dataframe tbody tr th {\n",
              "        vertical-align: top;\n",
              "    }\n",
              "\n",
              "    .dataframe thead th {\n",
              "        text-align: right;\n",
              "    }\n",
              "</style>\n",
              "<table border=\"1\" class=\"dataframe\">\n",
              "  <thead>\n",
              "    <tr style=\"text-align: right;\">\n",
              "      <th></th>\n",
              "      <th>Course Name</th>\n",
              "      <th>Course URL</th>\n",
              "      <th>Categories</th>\n",
              "      <th>Short Description</th>\n",
              "      <th>Long Description</th>\n",
              "      <th>Difficulty</th>\n",
              "      <th>Duration</th>\n",
              "      <th>Free Option</th>\n",
              "      <th>Rating</th>\n",
              "      <th>Original rating</th>\n",
              "      <th>Numberofrated</th>\n",
              "      <th>Numberofenroll</th>\n",
              "      <th>Paid Option</th>\n",
              "      <th>Language</th>\n",
              "      <th>Subtitle Language</th>\n",
              "      <th>Platform</th>\n",
              "      <th>Provider</th>\n",
              "      <th>Image URL</th>\n",
              "    </tr>\n",
              "  </thead>\n",
              "  <tbody>\n",
              "  </tbody>\n",
              "</table>\n",
              "</div>"
            ],
            "text/plain": [
              "Empty DataFrame\n",
              "Columns: [Course Name, Course URL, Categories, Short Description, Long Description, Difficulty, Duration, Free Option, Rating, Original rating, Numberofrated, Numberofenroll, Paid Option, Language, Subtitle Language, Platform, Provider, Image URL]\n",
              "Index: []"
            ]
          },
          "metadata": {},
          "execution_count": 408
        }
      ]
    },
    {
      "cell_type": "markdown",
      "metadata": {
        "id": "6bNK4aTUrq38"
      },
      "source": [
        "## Drop unwanted data"
      ]
    },
    {
      "cell_type": "code",
      "metadata": {
        "colab": {
          "base_uri": "https://localhost:8080/"
        },
        "id": "eHW-ni9nsFKH",
        "outputId": "fcd65fe7-65f8-4b1f-b36b-3b815905e736"
      },
      "source": [
        "# remove or modify those incomplete data such as row with uncorrect difficulty, row missing enroll or numbers of rating\n",
        "difficulty_list = ['All Levels', 'Beginner', 'Intermediate', 'Expert']\n",
        "df = df[df.level.isin(difficulty_list)]\n",
        "df.shape"
      ],
      "execution_count": null,
      "outputs": [
        {
          "output_type": "execute_result",
          "data": {
            "text/plain": [
              "(9984, 14)"
            ]
          },
          "metadata": {},
          "execution_count": 409
        }
      ]
    },
    {
      "cell_type": "code",
      "metadata": {
        "colab": {
          "base_uri": "https://localhost:8080/"
        },
        "id": "TKJbdizpIaTm",
        "outputId": "18473374-67ba-43a2-e0a5-cc89781cd6ef"
      },
      "source": [
        "# remove illegal duration row\n",
        "df = df[df.length.str.contains('total') | df.length.str.contains('question')]\n",
        "df.shape"
      ],
      "execution_count": null,
      "outputs": [
        {
          "output_type": "execute_result",
          "data": {
            "text/plain": [
              "(9983, 14)"
            ]
          },
          "metadata": {},
          "execution_count": 410
        }
      ]
    },
    {
      "cell_type": "markdown",
      "metadata": {
        "id": "iFuXh6tVl1xI"
      },
      "source": [
        "## Drop non-English courses"
      ]
    },
    {
      "cell_type": "code",
      "metadata": {
        "colab": {
          "base_uri": "https://localhost:8080/"
        },
        "id": "lEnlBOEaheMp",
        "outputId": "ffa77ad6-a3cb-4950-fb8b-d87d4542dcb4"
      },
      "source": [
        "# remove those courses which are not in English\n",
        "# or no info in language(Udemy no longer provide)\n",
        "df = df[df.language == 'English']\n",
        "df.shape"
      ],
      "execution_count": null,
      "outputs": [
        {
          "output_type": "execute_result",
          "data": {
            "text/plain": [
              "(9892, 14)"
            ]
          },
          "metadata": {},
          "execution_count": 411
        }
      ]
    },
    {
      "cell_type": "code",
      "metadata": {
        "colab": {
          "base_uri": "https://localhost:8080/"
        },
        "id": "-MWpU7P55Byc",
        "outputId": "f045cabe-4ed5-4d9a-8c7a-469d45de9836"
      },
      "source": [
        "df.head()"
      ],
      "execution_count": null,
      "outputs": [
        {
          "output_type": "execute_result",
          "data": {
            "text/html": [
              "<div>\n",
              "<style scoped>\n",
              "    .dataframe tbody tr th:only-of-type {\n",
              "        vertical-align: middle;\n",
              "    }\n",
              "\n",
              "    .dataframe tbody tr th {\n",
              "        vertical-align: top;\n",
              "    }\n",
              "\n",
              "    .dataframe thead th {\n",
              "        text-align: right;\n",
              "    }\n",
              "</style>\n",
              "<table border=\"1\" class=\"dataframe\">\n",
              "  <thead>\n",
              "    <tr style=\"text-align: right;\">\n",
              "      <th></th>\n",
              "      <th>name</th>\n",
              "      <th>description</th>\n",
              "      <th>link</th>\n",
              "      <th>instructors</th>\n",
              "      <th>rating</th>\n",
              "      <th>length</th>\n",
              "      <th>level</th>\n",
              "      <th>bestseller</th>\n",
              "      <th>price</th>\n",
              "      <th>numbersofrating</th>\n",
              "      <th>category</th>\n",
              "      <th>enroll</th>\n",
              "      <th>language</th>\n",
              "      <th>subtitle</th>\n",
              "    </tr>\n",
              "  </thead>\n",
              "  <tbody>\n",
              "    <tr>\n",
              "      <th>0</th>\n",
              "      <td>The Complete SQL Bootcamp 2021: Go from Zero t...</td>\n",
              "      <td>Become an expert at SQL!</td>\n",
              "      <td>https://www.udemy.com/course/the-complete-sql-...</td>\n",
              "      <td>Jose Portilla</td>\n",
              "      <td>4.7</td>\n",
              "      <td>9 total hours</td>\n",
              "      <td>All Levels</td>\n",
              "      <td>Bestseller</td>\n",
              "      <td>$25.99</td>\n",
              "      <td>(109,210 ratings)</td>\n",
              "      <td>['Business', 'Business Analytics &amp; Intelligenc...</td>\n",
              "      <td>410,023 students</td>\n",
              "      <td>English</td>\n",
              "      <td>English [Auto], French [Auto]</td>\n",
              "    </tr>\n",
              "    <tr>\n",
              "      <th>1</th>\n",
              "      <td>PMP Exam Prep Seminar - 2021 Exam Content with...</td>\n",
              "      <td>PMP Exam Prep Seminar - Earn 35 PDUs by comple...</td>\n",
              "      <td>https://www.udemy.com/course/pmp-pmbok6-35-pdus/</td>\n",
              "      <td>Joseph Phillips</td>\n",
              "      <td>4.6</td>\n",
              "      <td>30 total hours</td>\n",
              "      <td>All Levels</td>\n",
              "      <td>Bestseller</td>\n",
              "      <td>$22.99</td>\n",
              "      <td>(72,148 ratings)</td>\n",
              "      <td>['Project Management', 'PMBOK']</td>\n",
              "      <td>216,840 students</td>\n",
              "      <td>English</td>\n",
              "      <td>English [Auto], French [Auto]</td>\n",
              "    </tr>\n",
              "    <tr>\n",
              "      <th>2</th>\n",
              "      <td>Tableau 2020 A-Z: Hands-On Tableau Training fo...</td>\n",
              "      <td>Learn Tableau 2020 for data science step by st...</td>\n",
              "      <td>https://www.udemy.com/course/tableau10/</td>\n",
              "      <td>Kirill Eremenko, Ligency Team</td>\n",
              "      <td>4.6</td>\n",
              "      <td>9 total hours</td>\n",
              "      <td>All Levels</td>\n",
              "      <td>Bestseller</td>\n",
              "      <td>$23.99</td>\n",
              "      <td>(70,606 ratings)</td>\n",
              "      <td>['Business', 'Business Analytics &amp; Intelligenc...</td>\n",
              "      <td>262,889 students</td>\n",
              "      <td>English</td>\n",
              "      <td>English [Auto], French [Auto]</td>\n",
              "    </tr>\n",
              "    <tr>\n",
              "      <th>3</th>\n",
              "      <td>Microsoft Power BI - A Complete Introduction [...</td>\n",
              "      <td>Learn how to use Microsoft's Power BI Tools, i...</td>\n",
              "      <td>https://www.udemy.com/course/powerbi-complete-...</td>\n",
              "      <td>Manuel Lorenz, Academind by Maximilian Schwarz...</td>\n",
              "      <td>4.6</td>\n",
              "      <td>20 total hours</td>\n",
              "      <td>Beginner</td>\n",
              "      <td>NaN</td>\n",
              "      <td>$19.99</td>\n",
              "      <td>(50,251 ratings)</td>\n",
              "      <td>['Business Analytics &amp; Intelligence', 'Microso...</td>\n",
              "      <td>180,836 students</td>\n",
              "      <td>English</td>\n",
              "      <td>English, French [Auto]</td>\n",
              "    </tr>\n",
              "    <tr>\n",
              "      <th>4</th>\n",
              "      <td>Agile Crash Course: Agile Project Management; ...</td>\n",
              "      <td>Get Agile Certified &amp; Learn about the key and ...</td>\n",
              "      <td>https://www.udemy.com/course/agile-crash-course/</td>\n",
              "      <td>Mauricio Rubio - Agile Guru &amp; Founder of Agile...</td>\n",
              "      <td>4.4</td>\n",
              "      <td>2.5 total hours</td>\n",
              "      <td>Beginner</td>\n",
              "      <td>Bestseller</td>\n",
              "      <td>$29.99</td>\n",
              "      <td>(50,258 ratings)</td>\n",
              "      <td>['Business', 'Project Management', 'Agile']</td>\n",
              "      <td>149,096 students</td>\n",
              "      <td>English</td>\n",
              "      <td>English [Auto], French [Auto]</td>\n",
              "    </tr>\n",
              "  </tbody>\n",
              "</table>\n",
              "</div>"
            ],
            "text/plain": [
              "                                                name  ...                       subtitle\n",
              "0  The Complete SQL Bootcamp 2021: Go from Zero t...  ...  English [Auto], French [Auto]\n",
              "1  PMP Exam Prep Seminar - 2021 Exam Content with...  ...  English [Auto], French [Auto]\n",
              "2  Tableau 2020 A-Z: Hands-On Tableau Training fo...  ...  English [Auto], French [Auto]\n",
              "3  Microsoft Power BI - A Complete Introduction [...  ...         English, French [Auto]\n",
              "4  Agile Crash Course: Agile Project Management; ...  ...  English [Auto], French [Auto]\n",
              "\n",
              "[5 rows x 14 columns]"
            ]
          },
          "metadata": {},
          "execution_count": 412
        }
      ]
    },
    {
      "cell_type": "markdown",
      "metadata": {
        "id": "4pVeyUszY4_M"
      },
      "source": [
        "## Fill 0 to those rating is NaN\n",
        "## Fill None to those subtitle is NaN\n"
      ]
    },
    {
      "cell_type": "code",
      "metadata": {
        "id": "Grlx82yhZDPM"
      },
      "source": [
        "meanval = np.mean(df.rating)\n",
        "df.rating.fillna(meanval,inplace = True)\n",
        "df.subtitle.fillna('English(default)',inplace = True)\n",
        "df.price.fillna('free',inplace = True)\n",
        "df.numbersofrating.fillna('0',inplace = True)\n",
        "df.category.fillna('',inplace = True)"
      ],
      "execution_count": null,
      "outputs": []
    },
    {
      "cell_type": "markdown",
      "metadata": {
        "id": "irahpk--1wGX"
      },
      "source": [
        "## Preprocess Data"
      ]
    },
    {
      "cell_type": "markdown",
      "metadata": {
        "id": "U1LMiIF3ERyW"
      },
      "source": [
        "### Get Course Name, Short Description, Course URL, Provider Column"
      ]
    },
    {
      "cell_type": "code",
      "metadata": {
        "id": "fXdCrX2QEbk0",
        "colab": {
          "base_uri": "https://localhost:8080/"
        },
        "outputId": "ceb42e0f-c6de-49b9-ae22-21748714d3b7"
      },
      "source": [
        "final['Course Name'] = df.name\n",
        "final['Short Description'] = df.description\n",
        "final['Course URL'] = df.link\n",
        "final['Provider'] = df.instructors\n",
        "final.head()"
      ],
      "execution_count": null,
      "outputs": [
        {
          "output_type": "execute_result",
          "data": {
            "text/html": [
              "<div>\n",
              "<style scoped>\n",
              "    .dataframe tbody tr th:only-of-type {\n",
              "        vertical-align: middle;\n",
              "    }\n",
              "\n",
              "    .dataframe tbody tr th {\n",
              "        vertical-align: top;\n",
              "    }\n",
              "\n",
              "    .dataframe thead th {\n",
              "        text-align: right;\n",
              "    }\n",
              "</style>\n",
              "<table border=\"1\" class=\"dataframe\">\n",
              "  <thead>\n",
              "    <tr style=\"text-align: right;\">\n",
              "      <th></th>\n",
              "      <th>Course Name</th>\n",
              "      <th>Course URL</th>\n",
              "      <th>Categories</th>\n",
              "      <th>Short Description</th>\n",
              "      <th>Long Description</th>\n",
              "      <th>Difficulty</th>\n",
              "      <th>Duration</th>\n",
              "      <th>Free Option</th>\n",
              "      <th>Rating</th>\n",
              "      <th>Original rating</th>\n",
              "      <th>Numberofrated</th>\n",
              "      <th>Numberofenroll</th>\n",
              "      <th>Paid Option</th>\n",
              "      <th>Language</th>\n",
              "      <th>Subtitle Language</th>\n",
              "      <th>Platform</th>\n",
              "      <th>Provider</th>\n",
              "      <th>Image URL</th>\n",
              "    </tr>\n",
              "  </thead>\n",
              "  <tbody>\n",
              "    <tr>\n",
              "      <th>0</th>\n",
              "      <td>The Complete SQL Bootcamp 2021: Go from Zero t...</td>\n",
              "      <td>https://www.udemy.com/course/the-complete-sql-...</td>\n",
              "      <td>NaN</td>\n",
              "      <td>Become an expert at SQL!</td>\n",
              "      <td>NaN</td>\n",
              "      <td>NaN</td>\n",
              "      <td>NaN</td>\n",
              "      <td>NaN</td>\n",
              "      <td>NaN</td>\n",
              "      <td>NaN</td>\n",
              "      <td>NaN</td>\n",
              "      <td>NaN</td>\n",
              "      <td>NaN</td>\n",
              "      <td>NaN</td>\n",
              "      <td>NaN</td>\n",
              "      <td>NaN</td>\n",
              "      <td>Jose Portilla</td>\n",
              "      <td>NaN</td>\n",
              "    </tr>\n",
              "    <tr>\n",
              "      <th>1</th>\n",
              "      <td>PMP Exam Prep Seminar - 2021 Exam Content with...</td>\n",
              "      <td>https://www.udemy.com/course/pmp-pmbok6-35-pdus/</td>\n",
              "      <td>NaN</td>\n",
              "      <td>PMP Exam Prep Seminar - Earn 35 PDUs by comple...</td>\n",
              "      <td>NaN</td>\n",
              "      <td>NaN</td>\n",
              "      <td>NaN</td>\n",
              "      <td>NaN</td>\n",
              "      <td>NaN</td>\n",
              "      <td>NaN</td>\n",
              "      <td>NaN</td>\n",
              "      <td>NaN</td>\n",
              "      <td>NaN</td>\n",
              "      <td>NaN</td>\n",
              "      <td>NaN</td>\n",
              "      <td>NaN</td>\n",
              "      <td>Joseph Phillips</td>\n",
              "      <td>NaN</td>\n",
              "    </tr>\n",
              "    <tr>\n",
              "      <th>2</th>\n",
              "      <td>Tableau 2020 A-Z: Hands-On Tableau Training fo...</td>\n",
              "      <td>https://www.udemy.com/course/tableau10/</td>\n",
              "      <td>NaN</td>\n",
              "      <td>Learn Tableau 2020 for data science step by st...</td>\n",
              "      <td>NaN</td>\n",
              "      <td>NaN</td>\n",
              "      <td>NaN</td>\n",
              "      <td>NaN</td>\n",
              "      <td>NaN</td>\n",
              "      <td>NaN</td>\n",
              "      <td>NaN</td>\n",
              "      <td>NaN</td>\n",
              "      <td>NaN</td>\n",
              "      <td>NaN</td>\n",
              "      <td>NaN</td>\n",
              "      <td>NaN</td>\n",
              "      <td>Kirill Eremenko, Ligency Team</td>\n",
              "      <td>NaN</td>\n",
              "    </tr>\n",
              "    <tr>\n",
              "      <th>3</th>\n",
              "      <td>Microsoft Power BI - A Complete Introduction [...</td>\n",
              "      <td>https://www.udemy.com/course/powerbi-complete-...</td>\n",
              "      <td>NaN</td>\n",
              "      <td>Learn how to use Microsoft's Power BI Tools, i...</td>\n",
              "      <td>NaN</td>\n",
              "      <td>NaN</td>\n",
              "      <td>NaN</td>\n",
              "      <td>NaN</td>\n",
              "      <td>NaN</td>\n",
              "      <td>NaN</td>\n",
              "      <td>NaN</td>\n",
              "      <td>NaN</td>\n",
              "      <td>NaN</td>\n",
              "      <td>NaN</td>\n",
              "      <td>NaN</td>\n",
              "      <td>NaN</td>\n",
              "      <td>Manuel Lorenz, Academind by Maximilian Schwarz...</td>\n",
              "      <td>NaN</td>\n",
              "    </tr>\n",
              "    <tr>\n",
              "      <th>4</th>\n",
              "      <td>Agile Crash Course: Agile Project Management; ...</td>\n",
              "      <td>https://www.udemy.com/course/agile-crash-course/</td>\n",
              "      <td>NaN</td>\n",
              "      <td>Get Agile Certified &amp; Learn about the key and ...</td>\n",
              "      <td>NaN</td>\n",
              "      <td>NaN</td>\n",
              "      <td>NaN</td>\n",
              "      <td>NaN</td>\n",
              "      <td>NaN</td>\n",
              "      <td>NaN</td>\n",
              "      <td>NaN</td>\n",
              "      <td>NaN</td>\n",
              "      <td>NaN</td>\n",
              "      <td>NaN</td>\n",
              "      <td>NaN</td>\n",
              "      <td>NaN</td>\n",
              "      <td>Mauricio Rubio - Agile Guru &amp; Founder of Agile...</td>\n",
              "      <td>NaN</td>\n",
              "    </tr>\n",
              "  </tbody>\n",
              "</table>\n",
              "</div>"
            ],
            "text/plain": [
              "                                         Course Name  ... Image URL\n",
              "0  The Complete SQL Bootcamp 2021: Go from Zero t...  ...       NaN\n",
              "1  PMP Exam Prep Seminar - 2021 Exam Content with...  ...       NaN\n",
              "2  Tableau 2020 A-Z: Hands-On Tableau Training fo...  ...       NaN\n",
              "3  Microsoft Power BI - A Complete Introduction [...  ...       NaN\n",
              "4  Agile Crash Course: Agile Project Management; ...  ...       NaN\n",
              "\n",
              "[5 rows x 18 columns]"
            ]
          },
          "metadata": {},
          "execution_count": 414
        }
      ]
    },
    {
      "cell_type": "markdown",
      "metadata": {
        "id": "R988BL7Z5l3K"
      },
      "source": [
        "### Add Categories"
      ]
    },
    {
      "cell_type": "code",
      "metadata": {
        "colab": {
          "base_uri": "https://localhost:8080/"
        },
        "id": "z8WynGDN-bGG",
        "outputId": "46180542-7bcc-45c6-cf79-c28607e7be93"
      },
      "source": [
        "string = \"['asdfa', 'asdf']\"\n",
        "string[1:-1].split(', ')[0][1:-1]"
      ],
      "execution_count": null,
      "outputs": [
        {
          "output_type": "execute_result",
          "data": {
            "application/vnd.google.colaboratory.intrinsic+json": {
              "type": "string"
            },
            "text/plain": [
              "'asdfa'"
            ]
          },
          "metadata": {},
          "execution_count": 415
        }
      ]
    },
    {
      "cell_type": "code",
      "metadata": {
        "id": "ajUzREmx5tQj"
      },
      "source": [
        "def get_cat(strs):\n",
        "  if strs != '':\n",
        "    strs = strs[1:-1].split(', ')\n",
        "    answer = ''\n",
        "    for item in strs:\n",
        "      answer = answer+item[1:-1]+','\n",
        "    return answer[:-1]"
      ],
      "execution_count": null,
      "outputs": []
    },
    {
      "cell_type": "code",
      "metadata": {
        "id": "Kr-YGah4tFXr"
      },
      "source": [
        "final['Categories'] = df['category'].apply(lambda x: get_cat(x))"
      ],
      "execution_count": null,
      "outputs": []
    },
    {
      "cell_type": "markdown",
      "metadata": {
        "id": "S2wF9Dz3Erxv"
      },
      "source": [
        "### Get Course Difficulty"
      ]
    },
    {
      "cell_type": "code",
      "metadata": {
        "id": "YD28RHPaEr-a",
        "colab": {
          "base_uri": "https://localhost:8080/"
        },
        "outputId": "2dafd010-dd72-4dc5-ca8a-a06ec909d2cc"
      },
      "source": [
        "# Extract Course Difficulty, converted to numerical category and normalised\n",
        "def conv_diff(strs):\n",
        "  if strs == 'All Levels' or strs == 'Beginner':\n",
        "    diff = 0\n",
        "  elif strs == 'Intermediate':\n",
        "    diff = 1\n",
        "  else:\n",
        "    diff = 2\n",
        "  return diff\n",
        "\n",
        "final['Difficulty'] = df['level'].apply(lambda x: conv_diff(x)) # difficulty in numerical category\n",
        "\n",
        "final.head()"
      ],
      "execution_count": null,
      "outputs": [
        {
          "output_type": "execute_result",
          "data": {
            "text/html": [
              "<div>\n",
              "<style scoped>\n",
              "    .dataframe tbody tr th:only-of-type {\n",
              "        vertical-align: middle;\n",
              "    }\n",
              "\n",
              "    .dataframe tbody tr th {\n",
              "        vertical-align: top;\n",
              "    }\n",
              "\n",
              "    .dataframe thead th {\n",
              "        text-align: right;\n",
              "    }\n",
              "</style>\n",
              "<table border=\"1\" class=\"dataframe\">\n",
              "  <thead>\n",
              "    <tr style=\"text-align: right;\">\n",
              "      <th></th>\n",
              "      <th>Course Name</th>\n",
              "      <th>Course URL</th>\n",
              "      <th>Categories</th>\n",
              "      <th>Short Description</th>\n",
              "      <th>Long Description</th>\n",
              "      <th>Difficulty</th>\n",
              "      <th>Duration</th>\n",
              "      <th>Free Option</th>\n",
              "      <th>Rating</th>\n",
              "      <th>Original rating</th>\n",
              "      <th>Numberofrated</th>\n",
              "      <th>Numberofenroll</th>\n",
              "      <th>Paid Option</th>\n",
              "      <th>Language</th>\n",
              "      <th>Subtitle Language</th>\n",
              "      <th>Platform</th>\n",
              "      <th>Provider</th>\n",
              "      <th>Image URL</th>\n",
              "    </tr>\n",
              "  </thead>\n",
              "  <tbody>\n",
              "    <tr>\n",
              "      <th>0</th>\n",
              "      <td>The Complete SQL Bootcamp 2021: Go from Zero t...</td>\n",
              "      <td>https://www.udemy.com/course/the-complete-sql-...</td>\n",
              "      <td>Business,Business Analytics &amp; Intelligence,SQL</td>\n",
              "      <td>Become an expert at SQL!</td>\n",
              "      <td>NaN</td>\n",
              "      <td>0</td>\n",
              "      <td>NaN</td>\n",
              "      <td>NaN</td>\n",
              "      <td>NaN</td>\n",
              "      <td>NaN</td>\n",
              "      <td>NaN</td>\n",
              "      <td>NaN</td>\n",
              "      <td>NaN</td>\n",
              "      <td>NaN</td>\n",
              "      <td>NaN</td>\n",
              "      <td>NaN</td>\n",
              "      <td>Jose Portilla</td>\n",
              "      <td>NaN</td>\n",
              "    </tr>\n",
              "    <tr>\n",
              "      <th>1</th>\n",
              "      <td>PMP Exam Prep Seminar - 2021 Exam Content with...</td>\n",
              "      <td>https://www.udemy.com/course/pmp-pmbok6-35-pdus/</td>\n",
              "      <td>Project Management,PMBOK</td>\n",
              "      <td>PMP Exam Prep Seminar - Earn 35 PDUs by comple...</td>\n",
              "      <td>NaN</td>\n",
              "      <td>0</td>\n",
              "      <td>NaN</td>\n",
              "      <td>NaN</td>\n",
              "      <td>NaN</td>\n",
              "      <td>NaN</td>\n",
              "      <td>NaN</td>\n",
              "      <td>NaN</td>\n",
              "      <td>NaN</td>\n",
              "      <td>NaN</td>\n",
              "      <td>NaN</td>\n",
              "      <td>NaN</td>\n",
              "      <td>Joseph Phillips</td>\n",
              "      <td>NaN</td>\n",
              "    </tr>\n",
              "    <tr>\n",
              "      <th>2</th>\n",
              "      <td>Tableau 2020 A-Z: Hands-On Tableau Training fo...</td>\n",
              "      <td>https://www.udemy.com/course/tableau10/</td>\n",
              "      <td>Business,Business Analytics &amp; Intelligence,Tab...</td>\n",
              "      <td>Learn Tableau 2020 for data science step by st...</td>\n",
              "      <td>NaN</td>\n",
              "      <td>0</td>\n",
              "      <td>NaN</td>\n",
              "      <td>NaN</td>\n",
              "      <td>NaN</td>\n",
              "      <td>NaN</td>\n",
              "      <td>NaN</td>\n",
              "      <td>NaN</td>\n",
              "      <td>NaN</td>\n",
              "      <td>NaN</td>\n",
              "      <td>NaN</td>\n",
              "      <td>NaN</td>\n",
              "      <td>Kirill Eremenko, Ligency Team</td>\n",
              "      <td>NaN</td>\n",
              "    </tr>\n",
              "    <tr>\n",
              "      <th>3</th>\n",
              "      <td>Microsoft Power BI - A Complete Introduction [...</td>\n",
              "      <td>https://www.udemy.com/course/powerbi-complete-...</td>\n",
              "      <td>Business Analytics &amp; Intelligence,Microsoft Po...</td>\n",
              "      <td>Learn how to use Microsoft's Power BI Tools, i...</td>\n",
              "      <td>NaN</td>\n",
              "      <td>0</td>\n",
              "      <td>NaN</td>\n",
              "      <td>NaN</td>\n",
              "      <td>NaN</td>\n",
              "      <td>NaN</td>\n",
              "      <td>NaN</td>\n",
              "      <td>NaN</td>\n",
              "      <td>NaN</td>\n",
              "      <td>NaN</td>\n",
              "      <td>NaN</td>\n",
              "      <td>NaN</td>\n",
              "      <td>Manuel Lorenz, Academind by Maximilian Schwarz...</td>\n",
              "      <td>NaN</td>\n",
              "    </tr>\n",
              "    <tr>\n",
              "      <th>4</th>\n",
              "      <td>Agile Crash Course: Agile Project Management; ...</td>\n",
              "      <td>https://www.udemy.com/course/agile-crash-course/</td>\n",
              "      <td>Business,Project Management,Agile</td>\n",
              "      <td>Get Agile Certified &amp; Learn about the key and ...</td>\n",
              "      <td>NaN</td>\n",
              "      <td>0</td>\n",
              "      <td>NaN</td>\n",
              "      <td>NaN</td>\n",
              "      <td>NaN</td>\n",
              "      <td>NaN</td>\n",
              "      <td>NaN</td>\n",
              "      <td>NaN</td>\n",
              "      <td>NaN</td>\n",
              "      <td>NaN</td>\n",
              "      <td>NaN</td>\n",
              "      <td>NaN</td>\n",
              "      <td>Mauricio Rubio - Agile Guru &amp; Founder of Agile...</td>\n",
              "      <td>NaN</td>\n",
              "    </tr>\n",
              "  </tbody>\n",
              "</table>\n",
              "</div>"
            ],
            "text/plain": [
              "                                         Course Name  ... Image URL\n",
              "0  The Complete SQL Bootcamp 2021: Go from Zero t...  ...       NaN\n",
              "1  PMP Exam Prep Seminar - 2021 Exam Content with...  ...       NaN\n",
              "2  Tableau 2020 A-Z: Hands-On Tableau Training fo...  ...       NaN\n",
              "3  Microsoft Power BI - A Complete Introduction [...  ...       NaN\n",
              "4  Agile Crash Course: Agile Project Management; ...  ...       NaN\n",
              "\n",
              "[5 rows x 18 columns]"
            ]
          },
          "metadata": {},
          "execution_count": 418
        }
      ]
    },
    {
      "cell_type": "markdown",
      "metadata": {
        "id": "DMNDWGJTEsTB"
      },
      "source": [
        "### Get Course Duration"
      ]
    },
    {
      "cell_type": "code",
      "metadata": {
        "colab": {
          "base_uri": "https://localhost:8080/"
        },
        "id": "wo4zrOsPCyuJ",
        "outputId": "26ab3316-c760-4917-e251-4a8dac014890"
      },
      "source": [
        "string = '0.2 dsfaasdfa 2431 sdfgsdgfsdgsdfg'\n",
        "re.findall(r'\\d+[.]*\\d*',string)"
      ],
      "execution_count": null,
      "outputs": [
        {
          "output_type": "execute_result",
          "data": {
            "text/plain": [
              "['0.2', '2431']"
            ]
          },
          "metadata": {},
          "execution_count": 419
        }
      ]
    },
    {
      "cell_type": "code",
      "metadata": {
        "id": "oAWRuS6pEsn0",
        "colab": {
          "base_uri": "https://localhost:8080/"
        },
        "outputId": "4921198b-467c-4036-8330-bedf6bc6840c"
      },
      "source": [
        "# Get Course Duration in unit of hours\n",
        "\n",
        "def duration_conv(strs):\n",
        "  num = float(re.findall(r'\\d+[.]*\\d*',strs)[0])\n",
        "  if 'question' in strs:\n",
        "    num = num/25\n",
        "  if 'min' in strs:\n",
        "    dur = 0\n",
        "  elif num<10:\n",
        "    dur = 0\n",
        "  elif num<50:\n",
        "    dur = 1\n",
        "  else:\n",
        "    dur = 2\n",
        "  return dur\n",
        "\n",
        "final['Duration'] = df['length'].apply(lambda x: duration_conv(x))\n",
        "\n",
        "final.shape"
      ],
      "execution_count": null,
      "outputs": [
        {
          "output_type": "execute_result",
          "data": {
            "text/plain": [
              "(9892, 18)"
            ]
          },
          "metadata": {},
          "execution_count": 420
        }
      ]
    },
    {
      "cell_type": "code",
      "metadata": {
        "colab": {
          "base_uri": "https://localhost:8080/"
        },
        "id": "4VQ_PJfAKflr",
        "outputId": "bdea6d23-d436-44e1-e69e-e43837f622ae"
      },
      "source": [
        "final"
      ],
      "execution_count": null,
      "outputs": [
        {
          "output_type": "execute_result",
          "data": {
            "text/html": [
              "<div>\n",
              "<style scoped>\n",
              "    .dataframe tbody tr th:only-of-type {\n",
              "        vertical-align: middle;\n",
              "    }\n",
              "\n",
              "    .dataframe tbody tr th {\n",
              "        vertical-align: top;\n",
              "    }\n",
              "\n",
              "    .dataframe thead th {\n",
              "        text-align: right;\n",
              "    }\n",
              "</style>\n",
              "<table border=\"1\" class=\"dataframe\">\n",
              "  <thead>\n",
              "    <tr style=\"text-align: right;\">\n",
              "      <th></th>\n",
              "      <th>Course Name</th>\n",
              "      <th>Course URL</th>\n",
              "      <th>Categories</th>\n",
              "      <th>Short Description</th>\n",
              "      <th>Long Description</th>\n",
              "      <th>Difficulty</th>\n",
              "      <th>Duration</th>\n",
              "      <th>Free Option</th>\n",
              "      <th>Rating</th>\n",
              "      <th>Original rating</th>\n",
              "      <th>Numberofrated</th>\n",
              "      <th>Numberofenroll</th>\n",
              "      <th>Paid Option</th>\n",
              "      <th>Language</th>\n",
              "      <th>Subtitle Language</th>\n",
              "      <th>Platform</th>\n",
              "      <th>Provider</th>\n",
              "      <th>Image URL</th>\n",
              "    </tr>\n",
              "  </thead>\n",
              "  <tbody>\n",
              "    <tr>\n",
              "      <th>0</th>\n",
              "      <td>The Complete SQL Bootcamp 2021: Go from Zero t...</td>\n",
              "      <td>https://www.udemy.com/course/the-complete-sql-...</td>\n",
              "      <td>Business,Business Analytics &amp; Intelligence,SQL</td>\n",
              "      <td>Become an expert at SQL!</td>\n",
              "      <td>NaN</td>\n",
              "      <td>0</td>\n",
              "      <td>0</td>\n",
              "      <td>NaN</td>\n",
              "      <td>NaN</td>\n",
              "      <td>NaN</td>\n",
              "      <td>NaN</td>\n",
              "      <td>NaN</td>\n",
              "      <td>NaN</td>\n",
              "      <td>NaN</td>\n",
              "      <td>NaN</td>\n",
              "      <td>NaN</td>\n",
              "      <td>Jose Portilla</td>\n",
              "      <td>NaN</td>\n",
              "    </tr>\n",
              "    <tr>\n",
              "      <th>1</th>\n",
              "      <td>PMP Exam Prep Seminar - 2021 Exam Content with...</td>\n",
              "      <td>https://www.udemy.com/course/pmp-pmbok6-35-pdus/</td>\n",
              "      <td>Project Management,PMBOK</td>\n",
              "      <td>PMP Exam Prep Seminar - Earn 35 PDUs by comple...</td>\n",
              "      <td>NaN</td>\n",
              "      <td>0</td>\n",
              "      <td>1</td>\n",
              "      <td>NaN</td>\n",
              "      <td>NaN</td>\n",
              "      <td>NaN</td>\n",
              "      <td>NaN</td>\n",
              "      <td>NaN</td>\n",
              "      <td>NaN</td>\n",
              "      <td>NaN</td>\n",
              "      <td>NaN</td>\n",
              "      <td>NaN</td>\n",
              "      <td>Joseph Phillips</td>\n",
              "      <td>NaN</td>\n",
              "    </tr>\n",
              "    <tr>\n",
              "      <th>2</th>\n",
              "      <td>Tableau 2020 A-Z: Hands-On Tableau Training fo...</td>\n",
              "      <td>https://www.udemy.com/course/tableau10/</td>\n",
              "      <td>Business,Business Analytics &amp; Intelligence,Tab...</td>\n",
              "      <td>Learn Tableau 2020 for data science step by st...</td>\n",
              "      <td>NaN</td>\n",
              "      <td>0</td>\n",
              "      <td>0</td>\n",
              "      <td>NaN</td>\n",
              "      <td>NaN</td>\n",
              "      <td>NaN</td>\n",
              "      <td>NaN</td>\n",
              "      <td>NaN</td>\n",
              "      <td>NaN</td>\n",
              "      <td>NaN</td>\n",
              "      <td>NaN</td>\n",
              "      <td>NaN</td>\n",
              "      <td>Kirill Eremenko, Ligency Team</td>\n",
              "      <td>NaN</td>\n",
              "    </tr>\n",
              "    <tr>\n",
              "      <th>3</th>\n",
              "      <td>Microsoft Power BI - A Complete Introduction [...</td>\n",
              "      <td>https://www.udemy.com/course/powerbi-complete-...</td>\n",
              "      <td>Business Analytics &amp; Intelligence,Microsoft Po...</td>\n",
              "      <td>Learn how to use Microsoft's Power BI Tools, i...</td>\n",
              "      <td>NaN</td>\n",
              "      <td>0</td>\n",
              "      <td>1</td>\n",
              "      <td>NaN</td>\n",
              "      <td>NaN</td>\n",
              "      <td>NaN</td>\n",
              "      <td>NaN</td>\n",
              "      <td>NaN</td>\n",
              "      <td>NaN</td>\n",
              "      <td>NaN</td>\n",
              "      <td>NaN</td>\n",
              "      <td>NaN</td>\n",
              "      <td>Manuel Lorenz, Academind by Maximilian Schwarz...</td>\n",
              "      <td>NaN</td>\n",
              "    </tr>\n",
              "    <tr>\n",
              "      <th>4</th>\n",
              "      <td>Agile Crash Course: Agile Project Management; ...</td>\n",
              "      <td>https://www.udemy.com/course/agile-crash-course/</td>\n",
              "      <td>Business,Project Management,Agile</td>\n",
              "      <td>Get Agile Certified &amp; Learn about the key and ...</td>\n",
              "      <td>NaN</td>\n",
              "      <td>0</td>\n",
              "      <td>0</td>\n",
              "      <td>NaN</td>\n",
              "      <td>NaN</td>\n",
              "      <td>NaN</td>\n",
              "      <td>NaN</td>\n",
              "      <td>NaN</td>\n",
              "      <td>NaN</td>\n",
              "      <td>NaN</td>\n",
              "      <td>NaN</td>\n",
              "      <td>NaN</td>\n",
              "      <td>Mauricio Rubio - Agile Guru &amp; Founder of Agile...</td>\n",
              "      <td>NaN</td>\n",
              "    </tr>\n",
              "    <tr>\n",
              "      <th>...</th>\n",
              "      <td>...</td>\n",
              "      <td>...</td>\n",
              "      <td>...</td>\n",
              "      <td>...</td>\n",
              "      <td>...</td>\n",
              "      <td>...</td>\n",
              "      <td>...</td>\n",
              "      <td>...</td>\n",
              "      <td>...</td>\n",
              "      <td>...</td>\n",
              "      <td>...</td>\n",
              "      <td>...</td>\n",
              "      <td>...</td>\n",
              "      <td>...</td>\n",
              "      <td>...</td>\n",
              "      <td>...</td>\n",
              "      <td>...</td>\n",
              "      <td>...</td>\n",
              "    </tr>\n",
              "    <tr>\n",
              "      <th>9981</th>\n",
              "      <td>PMI ACP Agile Certified Practitioner Practice ...</td>\n",
              "      <td>https://www.udemy.com/course/pmi-acp-agile-cer...</td>\n",
              "      <td>Project Management,PMI-ACP</td>\n",
              "      <td>A practice tests designed to cover all the top...</td>\n",
              "      <td>NaN</td>\n",
              "      <td>0</td>\n",
              "      <td>1</td>\n",
              "      <td>NaN</td>\n",
              "      <td>NaN</td>\n",
              "      <td>NaN</td>\n",
              "      <td>NaN</td>\n",
              "      <td>NaN</td>\n",
              "      <td>NaN</td>\n",
              "      <td>NaN</td>\n",
              "      <td>NaN</td>\n",
              "      <td>NaN</td>\n",
              "      <td>Ashutosh Deshmukh</td>\n",
              "      <td>NaN</td>\n",
              "    </tr>\n",
              "    <tr>\n",
              "      <th>9982</th>\n",
              "      <td>Failure Mode Effect Analysis for Process Risk ...</td>\n",
              "      <td>https://www.udemy.com/course/fmea-for-process-...</td>\n",
              "      <td>Business,Industry,Failure Mode and Effects Ana...</td>\n",
              "      <td>Include supplier quality audit in FMEA and FME...</td>\n",
              "      <td>NaN</td>\n",
              "      <td>0</td>\n",
              "      <td>0</td>\n",
              "      <td>NaN</td>\n",
              "      <td>NaN</td>\n",
              "      <td>NaN</td>\n",
              "      <td>NaN</td>\n",
              "      <td>NaN</td>\n",
              "      <td>NaN</td>\n",
              "      <td>NaN</td>\n",
              "      <td>NaN</td>\n",
              "      <td>NaN</td>\n",
              "      <td>Evelyn 7E academy</td>\n",
              "      <td>NaN</td>\n",
              "    </tr>\n",
              "    <tr>\n",
              "      <th>9983</th>\n",
              "      <td>Bignners to Pro Course on Financial Modeling a...</td>\n",
              "      <td>https://www.udemy.com/course/bignners-to-pro-c...</td>\n",
              "      <td>Business,Business Strategy,Financial Modeling</td>\n",
              "      <td>Financial Modeling and Valuation</td>\n",
              "      <td>NaN</td>\n",
              "      <td>0</td>\n",
              "      <td>0</td>\n",
              "      <td>NaN</td>\n",
              "      <td>NaN</td>\n",
              "      <td>NaN</td>\n",
              "      <td>NaN</td>\n",
              "      <td>NaN</td>\n",
              "      <td>NaN</td>\n",
              "      <td>NaN</td>\n",
              "      <td>NaN</td>\n",
              "      <td>NaN</td>\n",
              "      <td>Harsh Barar</td>\n",
              "      <td>NaN</td>\n",
              "    </tr>\n",
              "    <tr>\n",
              "      <th>9984</th>\n",
              "      <td>The Real Estate Invoice Contract Download &amp; Guide</td>\n",
              "      <td>https://www.udemy.com/course/the-real-estate-i...</td>\n",
              "      <td>Business,Real Estate,Real Estate Investing</td>\n",
              "      <td>Download A Copy Of My PROVEN Real Estate Invoi...</td>\n",
              "      <td>NaN</td>\n",
              "      <td>0</td>\n",
              "      <td>0</td>\n",
              "      <td>NaN</td>\n",
              "      <td>NaN</td>\n",
              "      <td>NaN</td>\n",
              "      <td>NaN</td>\n",
              "      <td>NaN</td>\n",
              "      <td>NaN</td>\n",
              "      <td>NaN</td>\n",
              "      <td>NaN</td>\n",
              "      <td>NaN</td>\n",
              "      <td>Ben Clardy</td>\n",
              "      <td>NaN</td>\n",
              "    </tr>\n",
              "    <tr>\n",
              "      <th>9985</th>\n",
              "      <td>Behavioral and Disciplinary Issues Resolution(...</td>\n",
              "      <td>https://www.udemy.com/course/behavioral-and-di...</td>\n",
              "      <td>Business,Human Resources</td>\n",
              "      <td>Course 17 of 20 of The Human Resources Certifi...</td>\n",
              "      <td>NaN</td>\n",
              "      <td>0</td>\n",
              "      <td>0</td>\n",
              "      <td>NaN</td>\n",
              "      <td>NaN</td>\n",
              "      <td>NaN</td>\n",
              "      <td>NaN</td>\n",
              "      <td>NaN</td>\n",
              "      <td>NaN</td>\n",
              "      <td>NaN</td>\n",
              "      <td>NaN</td>\n",
              "      <td>NaN</td>\n",
              "      <td>Sorin Dumitrascu</td>\n",
              "      <td>NaN</td>\n",
              "    </tr>\n",
              "  </tbody>\n",
              "</table>\n",
              "<p>9892 rows × 18 columns</p>\n",
              "</div>"
            ],
            "text/plain": [
              "                                            Course Name  ... Image URL\n",
              "0     The Complete SQL Bootcamp 2021: Go from Zero t...  ...       NaN\n",
              "1     PMP Exam Prep Seminar - 2021 Exam Content with...  ...       NaN\n",
              "2     Tableau 2020 A-Z: Hands-On Tableau Training fo...  ...       NaN\n",
              "3     Microsoft Power BI - A Complete Introduction [...  ...       NaN\n",
              "4     Agile Crash Course: Agile Project Management; ...  ...       NaN\n",
              "...                                                 ...  ...       ...\n",
              "9981  PMI ACP Agile Certified Practitioner Practice ...  ...       NaN\n",
              "9982  Failure Mode Effect Analysis for Process Risk ...  ...       NaN\n",
              "9983  Bignners to Pro Course on Financial Modeling a...  ...       NaN\n",
              "9984  The Real Estate Invoice Contract Download & Guide  ...       NaN\n",
              "9985  Behavioral and Disciplinary Issues Resolution(...  ...       NaN\n",
              "\n",
              "[9892 rows x 18 columns]"
            ]
          },
          "metadata": {},
          "execution_count": 421
        }
      ]
    },
    {
      "cell_type": "markdown",
      "metadata": {
        "id": "8fzFq4ruNe8A"
      },
      "source": [
        "### Get free option or not"
      ]
    },
    {
      "cell_type": "code",
      "metadata": {
        "colab": {
          "base_uri": "https://localhost:8080/"
        },
        "id": "a7yYTH5BNiF_",
        "outputId": "428af7c8-6a40-4e35-b6f6-8cfdbf362a0d"
      },
      "source": [
        "def isfree(strs):\n",
        "  if 'free' in strs:\n",
        "    f = 1\n",
        "  else:\n",
        "    f = 0\n",
        "  return f\n",
        "\n",
        "final['Free Option'] = df.price.apply(lambda x:isfree(x))\n",
        "final.head()"
      ],
      "execution_count": null,
      "outputs": [
        {
          "output_type": "execute_result",
          "data": {
            "text/html": [
              "<div>\n",
              "<style scoped>\n",
              "    .dataframe tbody tr th:only-of-type {\n",
              "        vertical-align: middle;\n",
              "    }\n",
              "\n",
              "    .dataframe tbody tr th {\n",
              "        vertical-align: top;\n",
              "    }\n",
              "\n",
              "    .dataframe thead th {\n",
              "        text-align: right;\n",
              "    }\n",
              "</style>\n",
              "<table border=\"1\" class=\"dataframe\">\n",
              "  <thead>\n",
              "    <tr style=\"text-align: right;\">\n",
              "      <th></th>\n",
              "      <th>Course Name</th>\n",
              "      <th>Course URL</th>\n",
              "      <th>Categories</th>\n",
              "      <th>Short Description</th>\n",
              "      <th>Long Description</th>\n",
              "      <th>Difficulty</th>\n",
              "      <th>Duration</th>\n",
              "      <th>Free Option</th>\n",
              "      <th>Rating</th>\n",
              "      <th>Original rating</th>\n",
              "      <th>Numberofrated</th>\n",
              "      <th>Numberofenroll</th>\n",
              "      <th>Paid Option</th>\n",
              "      <th>Language</th>\n",
              "      <th>Subtitle Language</th>\n",
              "      <th>Platform</th>\n",
              "      <th>Provider</th>\n",
              "      <th>Image URL</th>\n",
              "    </tr>\n",
              "  </thead>\n",
              "  <tbody>\n",
              "    <tr>\n",
              "      <th>0</th>\n",
              "      <td>The Complete SQL Bootcamp 2021: Go from Zero t...</td>\n",
              "      <td>https://www.udemy.com/course/the-complete-sql-...</td>\n",
              "      <td>Business,Business Analytics &amp; Intelligence,SQL</td>\n",
              "      <td>Become an expert at SQL!</td>\n",
              "      <td>NaN</td>\n",
              "      <td>0</td>\n",
              "      <td>0</td>\n",
              "      <td>0</td>\n",
              "      <td>NaN</td>\n",
              "      <td>NaN</td>\n",
              "      <td>NaN</td>\n",
              "      <td>NaN</td>\n",
              "      <td>NaN</td>\n",
              "      <td>NaN</td>\n",
              "      <td>NaN</td>\n",
              "      <td>NaN</td>\n",
              "      <td>Jose Portilla</td>\n",
              "      <td>NaN</td>\n",
              "    </tr>\n",
              "    <tr>\n",
              "      <th>1</th>\n",
              "      <td>PMP Exam Prep Seminar - 2021 Exam Content with...</td>\n",
              "      <td>https://www.udemy.com/course/pmp-pmbok6-35-pdus/</td>\n",
              "      <td>Project Management,PMBOK</td>\n",
              "      <td>PMP Exam Prep Seminar - Earn 35 PDUs by comple...</td>\n",
              "      <td>NaN</td>\n",
              "      <td>0</td>\n",
              "      <td>1</td>\n",
              "      <td>0</td>\n",
              "      <td>NaN</td>\n",
              "      <td>NaN</td>\n",
              "      <td>NaN</td>\n",
              "      <td>NaN</td>\n",
              "      <td>NaN</td>\n",
              "      <td>NaN</td>\n",
              "      <td>NaN</td>\n",
              "      <td>NaN</td>\n",
              "      <td>Joseph Phillips</td>\n",
              "      <td>NaN</td>\n",
              "    </tr>\n",
              "    <tr>\n",
              "      <th>2</th>\n",
              "      <td>Tableau 2020 A-Z: Hands-On Tableau Training fo...</td>\n",
              "      <td>https://www.udemy.com/course/tableau10/</td>\n",
              "      <td>Business,Business Analytics &amp; Intelligence,Tab...</td>\n",
              "      <td>Learn Tableau 2020 for data science step by st...</td>\n",
              "      <td>NaN</td>\n",
              "      <td>0</td>\n",
              "      <td>0</td>\n",
              "      <td>0</td>\n",
              "      <td>NaN</td>\n",
              "      <td>NaN</td>\n",
              "      <td>NaN</td>\n",
              "      <td>NaN</td>\n",
              "      <td>NaN</td>\n",
              "      <td>NaN</td>\n",
              "      <td>NaN</td>\n",
              "      <td>NaN</td>\n",
              "      <td>Kirill Eremenko, Ligency Team</td>\n",
              "      <td>NaN</td>\n",
              "    </tr>\n",
              "    <tr>\n",
              "      <th>3</th>\n",
              "      <td>Microsoft Power BI - A Complete Introduction [...</td>\n",
              "      <td>https://www.udemy.com/course/powerbi-complete-...</td>\n",
              "      <td>Business Analytics &amp; Intelligence,Microsoft Po...</td>\n",
              "      <td>Learn how to use Microsoft's Power BI Tools, i...</td>\n",
              "      <td>NaN</td>\n",
              "      <td>0</td>\n",
              "      <td>1</td>\n",
              "      <td>0</td>\n",
              "      <td>NaN</td>\n",
              "      <td>NaN</td>\n",
              "      <td>NaN</td>\n",
              "      <td>NaN</td>\n",
              "      <td>NaN</td>\n",
              "      <td>NaN</td>\n",
              "      <td>NaN</td>\n",
              "      <td>NaN</td>\n",
              "      <td>Manuel Lorenz, Academind by Maximilian Schwarz...</td>\n",
              "      <td>NaN</td>\n",
              "    </tr>\n",
              "    <tr>\n",
              "      <th>4</th>\n",
              "      <td>Agile Crash Course: Agile Project Management; ...</td>\n",
              "      <td>https://www.udemy.com/course/agile-crash-course/</td>\n",
              "      <td>Business,Project Management,Agile</td>\n",
              "      <td>Get Agile Certified &amp; Learn about the key and ...</td>\n",
              "      <td>NaN</td>\n",
              "      <td>0</td>\n",
              "      <td>0</td>\n",
              "      <td>0</td>\n",
              "      <td>NaN</td>\n",
              "      <td>NaN</td>\n",
              "      <td>NaN</td>\n",
              "      <td>NaN</td>\n",
              "      <td>NaN</td>\n",
              "      <td>NaN</td>\n",
              "      <td>NaN</td>\n",
              "      <td>NaN</td>\n",
              "      <td>Mauricio Rubio - Agile Guru &amp; Founder of Agile...</td>\n",
              "      <td>NaN</td>\n",
              "    </tr>\n",
              "  </tbody>\n",
              "</table>\n",
              "</div>"
            ],
            "text/plain": [
              "                                         Course Name  ... Image URL\n",
              "0  The Complete SQL Bootcamp 2021: Go from Zero t...  ...       NaN\n",
              "1  PMP Exam Prep Seminar - 2021 Exam Content with...  ...       NaN\n",
              "2  Tableau 2020 A-Z: Hands-On Tableau Training fo...  ...       NaN\n",
              "3  Microsoft Power BI - A Complete Introduction [...  ...       NaN\n",
              "4  Agile Crash Course: Agile Project Management; ...  ...       NaN\n",
              "\n",
              "[5 rows x 18 columns]"
            ]
          },
          "metadata": {},
          "execution_count": 422
        }
      ]
    },
    {
      "cell_type": "code",
      "metadata": {
        "colab": {
          "base_uri": "https://localhost:8080/"
        },
        "id": "XvNeBM_1bzE4",
        "outputId": "7a771497-21a1-4bb6-9298-3ca3fdbe8366"
      },
      "source": [
        "final.Duration.unique()"
      ],
      "execution_count": null,
      "outputs": [
        {
          "output_type": "execute_result",
          "data": {
            "text/plain": [
              "array([0, 1, 2])"
            ]
          },
          "metadata": {},
          "execution_count": 423
        }
      ]
    },
    {
      "cell_type": "markdown",
      "metadata": {
        "id": "V6i0kc5VEs0p"
      },
      "source": [
        "### Get Course Rating"
      ]
    },
    {
      "cell_type": "code",
      "metadata": {
        "id": "sZzAQr03EtIb",
        "colab": {
          "base_uri": "https://localhost:8080/"
        },
        "outputId": "3dc69761-8093-4242-c00f-077138ca256b"
      },
      "source": [
        "\n",
        "string = '(565,433 ratings)'\n",
        "re.findall(r'\\d+[,]*\\d*[,]*\\d*',string)[0].replace(',','')"
      ],
      "execution_count": null,
      "outputs": [
        {
          "output_type": "execute_result",
          "data": {
            "application/vnd.google.colaboratory.intrinsic+json": {
              "type": "string"
            },
            "text/plain": [
              "'565433'"
            ]
          },
          "metadata": {},
          "execution_count": 424
        }
      ]
    },
    {
      "cell_type": "code",
      "metadata": {
        "colab": {
          "base_uri": "https://localhost:8080/"
        },
        "id": "H2WXfsq7Vys8",
        "outputId": "e3522bb1-0f21-4fcb-fd4a-8b1fcd5eb42a"
      },
      "source": [
        "# Get Course Rating as normalized number of enrolls\n",
        "\n",
        "def get_number(strs):\n",
        "  num = re.findall(r'\\d+[,]*\\d*[,]*\\d*',strs)[0].replace(',','')\n",
        "  return int(num)\n",
        "\n",
        "num_enrolls = df.enroll.apply(lambda x:get_number(x))\n",
        "num_ratings = df.numbersofrating.apply(lambda x:get_number(x))\n",
        "ratings = df.rating.apply(lambda x:float(x))\n",
        "maxenroll = max(num_enrolls)\n",
        "print('the maximum enroll number is:',maxenroll)\n",
        "final['Original rating'] = ratings\n",
        "final['Numberofrated'] = num_ratings\n",
        "final['Numberofenroll'] = num_enrolls\n",
        "final['Rating'] = ratings/5.0*num_ratings/maxenroll\n"
      ],
      "execution_count": null,
      "outputs": [
        {
          "output_type": "stream",
          "name": "stdout",
          "text": [
            "the maximum enroll number is: 414191\n"
          ]
        }
      ]
    },
    {
      "cell_type": "code",
      "metadata": {
        "colab": {
          "base_uri": "https://localhost:8080/"
        },
        "id": "Daxy0V4LgYyQ",
        "outputId": "aaf6484f-3fff-405d-92ea-41febe31359d"
      },
      "source": [
        "final.head()"
      ],
      "execution_count": null,
      "outputs": [
        {
          "output_type": "execute_result",
          "data": {
            "text/html": [
              "<div>\n",
              "<style scoped>\n",
              "    .dataframe tbody tr th:only-of-type {\n",
              "        vertical-align: middle;\n",
              "    }\n",
              "\n",
              "    .dataframe tbody tr th {\n",
              "        vertical-align: top;\n",
              "    }\n",
              "\n",
              "    .dataframe thead th {\n",
              "        text-align: right;\n",
              "    }\n",
              "</style>\n",
              "<table border=\"1\" class=\"dataframe\">\n",
              "  <thead>\n",
              "    <tr style=\"text-align: right;\">\n",
              "      <th></th>\n",
              "      <th>Course Name</th>\n",
              "      <th>Course URL</th>\n",
              "      <th>Categories</th>\n",
              "      <th>Short Description</th>\n",
              "      <th>Long Description</th>\n",
              "      <th>Difficulty</th>\n",
              "      <th>Duration</th>\n",
              "      <th>Free Option</th>\n",
              "      <th>Rating</th>\n",
              "      <th>Original rating</th>\n",
              "      <th>Numberofrated</th>\n",
              "      <th>Numberofenroll</th>\n",
              "      <th>Paid Option</th>\n",
              "      <th>Language</th>\n",
              "      <th>Subtitle Language</th>\n",
              "      <th>Platform</th>\n",
              "      <th>Provider</th>\n",
              "      <th>Image URL</th>\n",
              "    </tr>\n",
              "  </thead>\n",
              "  <tbody>\n",
              "    <tr>\n",
              "      <th>0</th>\n",
              "      <td>The Complete SQL Bootcamp 2021: Go from Zero t...</td>\n",
              "      <td>https://www.udemy.com/course/the-complete-sql-...</td>\n",
              "      <td>Business,Business Analytics &amp; Intelligence,SQL</td>\n",
              "      <td>Become an expert at SQL!</td>\n",
              "      <td>NaN</td>\n",
              "      <td>0</td>\n",
              "      <td>0</td>\n",
              "      <td>0</td>\n",
              "      <td>0.247850</td>\n",
              "      <td>4.7</td>\n",
              "      <td>109210</td>\n",
              "      <td>410023</td>\n",
              "      <td>NaN</td>\n",
              "      <td>NaN</td>\n",
              "      <td>NaN</td>\n",
              "      <td>NaN</td>\n",
              "      <td>Jose Portilla</td>\n",
              "      <td>NaN</td>\n",
              "    </tr>\n",
              "    <tr>\n",
              "      <th>1</th>\n",
              "      <td>PMP Exam Prep Seminar - 2021 Exam Content with...</td>\n",
              "      <td>https://www.udemy.com/course/pmp-pmbok6-35-pdus/</td>\n",
              "      <td>Project Management,PMBOK</td>\n",
              "      <td>PMP Exam Prep Seminar - Earn 35 PDUs by comple...</td>\n",
              "      <td>NaN</td>\n",
              "      <td>0</td>\n",
              "      <td>1</td>\n",
              "      <td>0</td>\n",
              "      <td>0.160255</td>\n",
              "      <td>4.6</td>\n",
              "      <td>72148</td>\n",
              "      <td>216840</td>\n",
              "      <td>NaN</td>\n",
              "      <td>NaN</td>\n",
              "      <td>NaN</td>\n",
              "      <td>NaN</td>\n",
              "      <td>Joseph Phillips</td>\n",
              "      <td>NaN</td>\n",
              "    </tr>\n",
              "    <tr>\n",
              "      <th>2</th>\n",
              "      <td>Tableau 2020 A-Z: Hands-On Tableau Training fo...</td>\n",
              "      <td>https://www.udemy.com/course/tableau10/</td>\n",
              "      <td>Business,Business Analytics &amp; Intelligence,Tab...</td>\n",
              "      <td>Learn Tableau 2020 for data science step by st...</td>\n",
              "      <td>NaN</td>\n",
              "      <td>0</td>\n",
              "      <td>0</td>\n",
              "      <td>0</td>\n",
              "      <td>0.156830</td>\n",
              "      <td>4.6</td>\n",
              "      <td>70606</td>\n",
              "      <td>262889</td>\n",
              "      <td>NaN</td>\n",
              "      <td>NaN</td>\n",
              "      <td>NaN</td>\n",
              "      <td>NaN</td>\n",
              "      <td>Kirill Eremenko, Ligency Team</td>\n",
              "      <td>NaN</td>\n",
              "    </tr>\n",
              "    <tr>\n",
              "      <th>3</th>\n",
              "      <td>Microsoft Power BI - A Complete Introduction [...</td>\n",
              "      <td>https://www.udemy.com/course/powerbi-complete-...</td>\n",
              "      <td>Business Analytics &amp; Intelligence,Microsoft Po...</td>\n",
              "      <td>Learn how to use Microsoft's Power BI Tools, i...</td>\n",
              "      <td>NaN</td>\n",
              "      <td>0</td>\n",
              "      <td>1</td>\n",
              "      <td>0</td>\n",
              "      <td>0.111617</td>\n",
              "      <td>4.6</td>\n",
              "      <td>50251</td>\n",
              "      <td>180836</td>\n",
              "      <td>NaN</td>\n",
              "      <td>NaN</td>\n",
              "      <td>NaN</td>\n",
              "      <td>NaN</td>\n",
              "      <td>Manuel Lorenz, Academind by Maximilian Schwarz...</td>\n",
              "      <td>NaN</td>\n",
              "    </tr>\n",
              "    <tr>\n",
              "      <th>4</th>\n",
              "      <td>Agile Crash Course: Agile Project Management; ...</td>\n",
              "      <td>https://www.udemy.com/course/agile-crash-course/</td>\n",
              "      <td>Business,Project Management,Agile</td>\n",
              "      <td>Get Agile Certified &amp; Learn about the key and ...</td>\n",
              "      <td>NaN</td>\n",
              "      <td>0</td>\n",
              "      <td>0</td>\n",
              "      <td>0</td>\n",
              "      <td>0.106779</td>\n",
              "      <td>4.4</td>\n",
              "      <td>50258</td>\n",
              "      <td>149096</td>\n",
              "      <td>NaN</td>\n",
              "      <td>NaN</td>\n",
              "      <td>NaN</td>\n",
              "      <td>NaN</td>\n",
              "      <td>Mauricio Rubio - Agile Guru &amp; Founder of Agile...</td>\n",
              "      <td>NaN</td>\n",
              "    </tr>\n",
              "  </tbody>\n",
              "</table>\n",
              "</div>"
            ],
            "text/plain": [
              "                                         Course Name  ... Image URL\n",
              "0  The Complete SQL Bootcamp 2021: Go from Zero t...  ...       NaN\n",
              "1  PMP Exam Prep Seminar - 2021 Exam Content with...  ...       NaN\n",
              "2  Tableau 2020 A-Z: Hands-On Tableau Training fo...  ...       NaN\n",
              "3  Microsoft Power BI - A Complete Introduction [...  ...       NaN\n",
              "4  Agile Crash Course: Agile Project Management; ...  ...       NaN\n",
              "\n",
              "[5 rows x 18 columns]"
            ]
          },
          "metadata": {},
          "execution_count": 426
        }
      ]
    },
    {
      "cell_type": "markdown",
      "metadata": {
        "id": "W5Nakr-1L4vt"
      },
      "source": [
        "### Get Subtitle Language"
      ]
    },
    {
      "cell_type": "code",
      "metadata": {
        "colab": {
          "base_uri": "https://localhost:8080/"
        },
        "id": "mRLmO0kWgnuu",
        "outputId": "304f7dc9-f408-4611-e0e9-a2cc0efe5ca5"
      },
      "source": [
        "string = 'English(defaut)'\n",
        "string.replace('\\xa0',' ').replace(',',' ').split(' ')\n"
      ],
      "execution_count": null,
      "outputs": [
        {
          "output_type": "execute_result",
          "data": {
            "text/plain": [
              "['English(defaut)']"
            ]
          },
          "metadata": {},
          "execution_count": 427
        }
      ]
    },
    {
      "cell_type": "code",
      "metadata": {
        "id": "7lK44izoL4cv",
        "colab": {
          "base_uri": "https://localhost:8080/"
        },
        "outputId": "83e6cf34-3baf-4f0e-bf93-427bc194c4f0"
      },
      "source": [
        "def get_subs(strs):\n",
        "  lst = strs.replace('\\xa0',' ').replace(',',' ').split(' ')\n",
        "  subs = ''\n",
        "  for item in lst:\n",
        "    if item != '' and item != '[Auto]':\n",
        "      subs = subs+item+','\n",
        "  return subs[:-1]\n",
        "\n",
        "get_subs(string)"
      ],
      "execution_count": null,
      "outputs": [
        {
          "output_type": "execute_result",
          "data": {
            "application/vnd.google.colaboratory.intrinsic+json": {
              "type": "string"
            },
            "text/plain": [
              "'English(defaut)'"
            ]
          },
          "metadata": {},
          "execution_count": 428
        }
      ]
    },
    {
      "cell_type": "code",
      "metadata": {
        "colab": {
          "base_uri": "https://localhost:8080/"
        },
        "id": "wa2uTwXmlry0",
        "outputId": "0dab8f03-52e6-4063-f84d-5ed2d6e64690"
      },
      "source": [
        "# Get course list of subtitle language available\n",
        "\n",
        "final['Subtitle Language'] = df.subtitle.apply(lambda x:get_subs(x))\n",
        "final.head()"
      ],
      "execution_count": null,
      "outputs": [
        {
          "output_type": "execute_result",
          "data": {
            "text/html": [
              "<div>\n",
              "<style scoped>\n",
              "    .dataframe tbody tr th:only-of-type {\n",
              "        vertical-align: middle;\n",
              "    }\n",
              "\n",
              "    .dataframe tbody tr th {\n",
              "        vertical-align: top;\n",
              "    }\n",
              "\n",
              "    .dataframe thead th {\n",
              "        text-align: right;\n",
              "    }\n",
              "</style>\n",
              "<table border=\"1\" class=\"dataframe\">\n",
              "  <thead>\n",
              "    <tr style=\"text-align: right;\">\n",
              "      <th></th>\n",
              "      <th>Course Name</th>\n",
              "      <th>Course URL</th>\n",
              "      <th>Categories</th>\n",
              "      <th>Short Description</th>\n",
              "      <th>Long Description</th>\n",
              "      <th>Difficulty</th>\n",
              "      <th>Duration</th>\n",
              "      <th>Free Option</th>\n",
              "      <th>Rating</th>\n",
              "      <th>Original rating</th>\n",
              "      <th>Numberofrated</th>\n",
              "      <th>Numberofenroll</th>\n",
              "      <th>Paid Option</th>\n",
              "      <th>Language</th>\n",
              "      <th>Subtitle Language</th>\n",
              "      <th>Platform</th>\n",
              "      <th>Provider</th>\n",
              "      <th>Image URL</th>\n",
              "    </tr>\n",
              "  </thead>\n",
              "  <tbody>\n",
              "    <tr>\n",
              "      <th>0</th>\n",
              "      <td>The Complete SQL Bootcamp 2021: Go from Zero t...</td>\n",
              "      <td>https://www.udemy.com/course/the-complete-sql-...</td>\n",
              "      <td>Business,Business Analytics &amp; Intelligence,SQL</td>\n",
              "      <td>Become an expert at SQL!</td>\n",
              "      <td>NaN</td>\n",
              "      <td>0</td>\n",
              "      <td>0</td>\n",
              "      <td>0</td>\n",
              "      <td>0.247850</td>\n",
              "      <td>4.7</td>\n",
              "      <td>109210</td>\n",
              "      <td>410023</td>\n",
              "      <td>NaN</td>\n",
              "      <td>NaN</td>\n",
              "      <td>English,French</td>\n",
              "      <td>NaN</td>\n",
              "      <td>Jose Portilla</td>\n",
              "      <td>NaN</td>\n",
              "    </tr>\n",
              "    <tr>\n",
              "      <th>1</th>\n",
              "      <td>PMP Exam Prep Seminar - 2021 Exam Content with...</td>\n",
              "      <td>https://www.udemy.com/course/pmp-pmbok6-35-pdus/</td>\n",
              "      <td>Project Management,PMBOK</td>\n",
              "      <td>PMP Exam Prep Seminar - Earn 35 PDUs by comple...</td>\n",
              "      <td>NaN</td>\n",
              "      <td>0</td>\n",
              "      <td>1</td>\n",
              "      <td>0</td>\n",
              "      <td>0.160255</td>\n",
              "      <td>4.6</td>\n",
              "      <td>72148</td>\n",
              "      <td>216840</td>\n",
              "      <td>NaN</td>\n",
              "      <td>NaN</td>\n",
              "      <td>English,French</td>\n",
              "      <td>NaN</td>\n",
              "      <td>Joseph Phillips</td>\n",
              "      <td>NaN</td>\n",
              "    </tr>\n",
              "    <tr>\n",
              "      <th>2</th>\n",
              "      <td>Tableau 2020 A-Z: Hands-On Tableau Training fo...</td>\n",
              "      <td>https://www.udemy.com/course/tableau10/</td>\n",
              "      <td>Business,Business Analytics &amp; Intelligence,Tab...</td>\n",
              "      <td>Learn Tableau 2020 for data science step by st...</td>\n",
              "      <td>NaN</td>\n",
              "      <td>0</td>\n",
              "      <td>0</td>\n",
              "      <td>0</td>\n",
              "      <td>0.156830</td>\n",
              "      <td>4.6</td>\n",
              "      <td>70606</td>\n",
              "      <td>262889</td>\n",
              "      <td>NaN</td>\n",
              "      <td>NaN</td>\n",
              "      <td>English,French</td>\n",
              "      <td>NaN</td>\n",
              "      <td>Kirill Eremenko, Ligency Team</td>\n",
              "      <td>NaN</td>\n",
              "    </tr>\n",
              "    <tr>\n",
              "      <th>3</th>\n",
              "      <td>Microsoft Power BI - A Complete Introduction [...</td>\n",
              "      <td>https://www.udemy.com/course/powerbi-complete-...</td>\n",
              "      <td>Business Analytics &amp; Intelligence,Microsoft Po...</td>\n",
              "      <td>Learn how to use Microsoft's Power BI Tools, i...</td>\n",
              "      <td>NaN</td>\n",
              "      <td>0</td>\n",
              "      <td>1</td>\n",
              "      <td>0</td>\n",
              "      <td>0.111617</td>\n",
              "      <td>4.6</td>\n",
              "      <td>50251</td>\n",
              "      <td>180836</td>\n",
              "      <td>NaN</td>\n",
              "      <td>NaN</td>\n",
              "      <td>English,French</td>\n",
              "      <td>NaN</td>\n",
              "      <td>Manuel Lorenz, Academind by Maximilian Schwarz...</td>\n",
              "      <td>NaN</td>\n",
              "    </tr>\n",
              "    <tr>\n",
              "      <th>4</th>\n",
              "      <td>Agile Crash Course: Agile Project Management; ...</td>\n",
              "      <td>https://www.udemy.com/course/agile-crash-course/</td>\n",
              "      <td>Business,Project Management,Agile</td>\n",
              "      <td>Get Agile Certified &amp; Learn about the key and ...</td>\n",
              "      <td>NaN</td>\n",
              "      <td>0</td>\n",
              "      <td>0</td>\n",
              "      <td>0</td>\n",
              "      <td>0.106779</td>\n",
              "      <td>4.4</td>\n",
              "      <td>50258</td>\n",
              "      <td>149096</td>\n",
              "      <td>NaN</td>\n",
              "      <td>NaN</td>\n",
              "      <td>English,French</td>\n",
              "      <td>NaN</td>\n",
              "      <td>Mauricio Rubio - Agile Guru &amp; Founder of Agile...</td>\n",
              "      <td>NaN</td>\n",
              "    </tr>\n",
              "  </tbody>\n",
              "</table>\n",
              "</div>"
            ],
            "text/plain": [
              "                                         Course Name  ... Image URL\n",
              "0  The Complete SQL Bootcamp 2021: Go from Zero t...  ...       NaN\n",
              "1  PMP Exam Prep Seminar - 2021 Exam Content with...  ...       NaN\n",
              "2  Tableau 2020 A-Z: Hands-On Tableau Training fo...  ...       NaN\n",
              "3  Microsoft Power BI - A Complete Introduction [...  ...       NaN\n",
              "4  Agile Crash Course: Agile Project Management; ...  ...       NaN\n",
              "\n",
              "[5 rows x 18 columns]"
            ]
          },
          "metadata": {},
          "execution_count": 429
        }
      ]
    },
    {
      "cell_type": "markdown",
      "metadata": {
        "id": "YFO-pvcyMGEC"
      },
      "source": [
        "### Paid Option"
      ]
    },
    {
      "cell_type": "code",
      "metadata": {
        "id": "6hWF7OOPMFmJ",
        "colab": {
          "base_uri": "https://localhost:8080/"
        },
        "outputId": "480e5660-c28d-4d78-982f-f67cfc90f191"
      },
      "source": [
        "# Check if free option is available\n",
        "\n",
        "final['Paid Option'] = df.price.apply(lambda x: 0 if x == 'free' else x)\n",
        "final.head()"
      ],
      "execution_count": null,
      "outputs": [
        {
          "output_type": "execute_result",
          "data": {
            "text/html": [
              "<div>\n",
              "<style scoped>\n",
              "    .dataframe tbody tr th:only-of-type {\n",
              "        vertical-align: middle;\n",
              "    }\n",
              "\n",
              "    .dataframe tbody tr th {\n",
              "        vertical-align: top;\n",
              "    }\n",
              "\n",
              "    .dataframe thead th {\n",
              "        text-align: right;\n",
              "    }\n",
              "</style>\n",
              "<table border=\"1\" class=\"dataframe\">\n",
              "  <thead>\n",
              "    <tr style=\"text-align: right;\">\n",
              "      <th></th>\n",
              "      <th>Course Name</th>\n",
              "      <th>Course URL</th>\n",
              "      <th>Categories</th>\n",
              "      <th>Short Description</th>\n",
              "      <th>Long Description</th>\n",
              "      <th>Difficulty</th>\n",
              "      <th>Duration</th>\n",
              "      <th>Free Option</th>\n",
              "      <th>Rating</th>\n",
              "      <th>Original rating</th>\n",
              "      <th>Numberofrated</th>\n",
              "      <th>Numberofenroll</th>\n",
              "      <th>Paid Option</th>\n",
              "      <th>Language</th>\n",
              "      <th>Subtitle Language</th>\n",
              "      <th>Platform</th>\n",
              "      <th>Provider</th>\n",
              "      <th>Image URL</th>\n",
              "    </tr>\n",
              "  </thead>\n",
              "  <tbody>\n",
              "    <tr>\n",
              "      <th>0</th>\n",
              "      <td>The Complete SQL Bootcamp 2021: Go from Zero t...</td>\n",
              "      <td>https://www.udemy.com/course/the-complete-sql-...</td>\n",
              "      <td>Business,Business Analytics &amp; Intelligence,SQL</td>\n",
              "      <td>Become an expert at SQL!</td>\n",
              "      <td>NaN</td>\n",
              "      <td>0</td>\n",
              "      <td>0</td>\n",
              "      <td>0</td>\n",
              "      <td>0.247850</td>\n",
              "      <td>4.7</td>\n",
              "      <td>109210</td>\n",
              "      <td>410023</td>\n",
              "      <td>$25.99</td>\n",
              "      <td>NaN</td>\n",
              "      <td>English,French</td>\n",
              "      <td>NaN</td>\n",
              "      <td>Jose Portilla</td>\n",
              "      <td>NaN</td>\n",
              "    </tr>\n",
              "    <tr>\n",
              "      <th>1</th>\n",
              "      <td>PMP Exam Prep Seminar - 2021 Exam Content with...</td>\n",
              "      <td>https://www.udemy.com/course/pmp-pmbok6-35-pdus/</td>\n",
              "      <td>Project Management,PMBOK</td>\n",
              "      <td>PMP Exam Prep Seminar - Earn 35 PDUs by comple...</td>\n",
              "      <td>NaN</td>\n",
              "      <td>0</td>\n",
              "      <td>1</td>\n",
              "      <td>0</td>\n",
              "      <td>0.160255</td>\n",
              "      <td>4.6</td>\n",
              "      <td>72148</td>\n",
              "      <td>216840</td>\n",
              "      <td>$22.99</td>\n",
              "      <td>NaN</td>\n",
              "      <td>English,French</td>\n",
              "      <td>NaN</td>\n",
              "      <td>Joseph Phillips</td>\n",
              "      <td>NaN</td>\n",
              "    </tr>\n",
              "    <tr>\n",
              "      <th>2</th>\n",
              "      <td>Tableau 2020 A-Z: Hands-On Tableau Training fo...</td>\n",
              "      <td>https://www.udemy.com/course/tableau10/</td>\n",
              "      <td>Business,Business Analytics &amp; Intelligence,Tab...</td>\n",
              "      <td>Learn Tableau 2020 for data science step by st...</td>\n",
              "      <td>NaN</td>\n",
              "      <td>0</td>\n",
              "      <td>0</td>\n",
              "      <td>0</td>\n",
              "      <td>0.156830</td>\n",
              "      <td>4.6</td>\n",
              "      <td>70606</td>\n",
              "      <td>262889</td>\n",
              "      <td>$23.99</td>\n",
              "      <td>NaN</td>\n",
              "      <td>English,French</td>\n",
              "      <td>NaN</td>\n",
              "      <td>Kirill Eremenko, Ligency Team</td>\n",
              "      <td>NaN</td>\n",
              "    </tr>\n",
              "    <tr>\n",
              "      <th>3</th>\n",
              "      <td>Microsoft Power BI - A Complete Introduction [...</td>\n",
              "      <td>https://www.udemy.com/course/powerbi-complete-...</td>\n",
              "      <td>Business Analytics &amp; Intelligence,Microsoft Po...</td>\n",
              "      <td>Learn how to use Microsoft's Power BI Tools, i...</td>\n",
              "      <td>NaN</td>\n",
              "      <td>0</td>\n",
              "      <td>1</td>\n",
              "      <td>0</td>\n",
              "      <td>0.111617</td>\n",
              "      <td>4.6</td>\n",
              "      <td>50251</td>\n",
              "      <td>180836</td>\n",
              "      <td>$19.99</td>\n",
              "      <td>NaN</td>\n",
              "      <td>English,French</td>\n",
              "      <td>NaN</td>\n",
              "      <td>Manuel Lorenz, Academind by Maximilian Schwarz...</td>\n",
              "      <td>NaN</td>\n",
              "    </tr>\n",
              "    <tr>\n",
              "      <th>4</th>\n",
              "      <td>Agile Crash Course: Agile Project Management; ...</td>\n",
              "      <td>https://www.udemy.com/course/agile-crash-course/</td>\n",
              "      <td>Business,Project Management,Agile</td>\n",
              "      <td>Get Agile Certified &amp; Learn about the key and ...</td>\n",
              "      <td>NaN</td>\n",
              "      <td>0</td>\n",
              "      <td>0</td>\n",
              "      <td>0</td>\n",
              "      <td>0.106779</td>\n",
              "      <td>4.4</td>\n",
              "      <td>50258</td>\n",
              "      <td>149096</td>\n",
              "      <td>$29.99</td>\n",
              "      <td>NaN</td>\n",
              "      <td>English,French</td>\n",
              "      <td>NaN</td>\n",
              "      <td>Mauricio Rubio - Agile Guru &amp; Founder of Agile...</td>\n",
              "      <td>NaN</td>\n",
              "    </tr>\n",
              "  </tbody>\n",
              "</table>\n",
              "</div>"
            ],
            "text/plain": [
              "                                         Course Name  ... Image URL\n",
              "0  The Complete SQL Bootcamp 2021: Go from Zero t...  ...       NaN\n",
              "1  PMP Exam Prep Seminar - 2021 Exam Content with...  ...       NaN\n",
              "2  Tableau 2020 A-Z: Hands-On Tableau Training fo...  ...       NaN\n",
              "3  Microsoft Power BI - A Complete Introduction [...  ...       NaN\n",
              "4  Agile Crash Course: Agile Project Management; ...  ...       NaN\n",
              "\n",
              "[5 rows x 18 columns]"
            ]
          },
          "metadata": {},
          "execution_count": 430
        }
      ]
    },
    {
      "cell_type": "markdown",
      "metadata": {
        "id": "q77RZgwAr4DG"
      },
      "source": [
        "### Adding a Column for platform identifier"
      ]
    },
    {
      "cell_type": "code",
      "metadata": {
        "id": "Dj7fPPOdr4Sc"
      },
      "source": [
        "# Add Platform name\n",
        "# 0 - Edx\n",
        "# 1 - Udemy\n",
        "\n",
        "final['Platform'] = [1 for i in range(len(final['Course Name']))]"
      ],
      "execution_count": null,
      "outputs": []
    },
    {
      "cell_type": "markdown",
      "metadata": {
        "id": "jjPXVJ3Z5LzF"
      },
      "source": [
        "### Adding a cloumn for language (all English)"
      ]
    },
    {
      "cell_type": "code",
      "metadata": {
        "id": "NY5p0F1a5Sza"
      },
      "source": [
        "final['Language'] = ['English' for i in range(len(final['Course Name']))]"
      ],
      "execution_count": null,
      "outputs": []
    },
    {
      "cell_type": "markdown",
      "metadata": {
        "id": "X0lV992lU-if"
      },
      "source": [
        "## Combine data "
      ]
    },
    {
      "cell_type": "code",
      "metadata": {
        "colab": {
          "base_uri": "https://localhost:8080/"
        },
        "id": "-OtYknLPpa80",
        "outputId": "1b32120f-deb9-4402-bed9-d60c6de8084b"
      },
      "source": [
        "final"
      ],
      "execution_count": null,
      "outputs": [
        {
          "output_type": "execute_result",
          "data": {
            "text/html": [
              "<div>\n",
              "<style scoped>\n",
              "    .dataframe tbody tr th:only-of-type {\n",
              "        vertical-align: middle;\n",
              "    }\n",
              "\n",
              "    .dataframe tbody tr th {\n",
              "        vertical-align: top;\n",
              "    }\n",
              "\n",
              "    .dataframe thead th {\n",
              "        text-align: right;\n",
              "    }\n",
              "</style>\n",
              "<table border=\"1\" class=\"dataframe\">\n",
              "  <thead>\n",
              "    <tr style=\"text-align: right;\">\n",
              "      <th></th>\n",
              "      <th>Course Name</th>\n",
              "      <th>Course URL</th>\n",
              "      <th>Categories</th>\n",
              "      <th>Short Description</th>\n",
              "      <th>Long Description</th>\n",
              "      <th>Difficulty</th>\n",
              "      <th>Duration</th>\n",
              "      <th>Free Option</th>\n",
              "      <th>Rating</th>\n",
              "      <th>Original rating</th>\n",
              "      <th>Numberofrated</th>\n",
              "      <th>Numberofenroll</th>\n",
              "      <th>Paid Option</th>\n",
              "      <th>Language</th>\n",
              "      <th>Subtitle Language</th>\n",
              "      <th>Platform</th>\n",
              "      <th>Provider</th>\n",
              "      <th>Image URL</th>\n",
              "    </tr>\n",
              "  </thead>\n",
              "  <tbody>\n",
              "    <tr>\n",
              "      <th>0</th>\n",
              "      <td>The Complete SQL Bootcamp 2021: Go from Zero t...</td>\n",
              "      <td>https://www.udemy.com/course/the-complete-sql-...</td>\n",
              "      <td>Business,Business Analytics &amp; Intelligence,SQL</td>\n",
              "      <td>Become an expert at SQL!</td>\n",
              "      <td>NaN</td>\n",
              "      <td>0</td>\n",
              "      <td>0</td>\n",
              "      <td>0</td>\n",
              "      <td>0.247850</td>\n",
              "      <td>4.700000</td>\n",
              "      <td>109210</td>\n",
              "      <td>410023</td>\n",
              "      <td>$25.99</td>\n",
              "      <td>English</td>\n",
              "      <td>English,French</td>\n",
              "      <td>1</td>\n",
              "      <td>Jose Portilla</td>\n",
              "      <td>NaN</td>\n",
              "    </tr>\n",
              "    <tr>\n",
              "      <th>1</th>\n",
              "      <td>PMP Exam Prep Seminar - 2021 Exam Content with...</td>\n",
              "      <td>https://www.udemy.com/course/pmp-pmbok6-35-pdus/</td>\n",
              "      <td>Project Management,PMBOK</td>\n",
              "      <td>PMP Exam Prep Seminar - Earn 35 PDUs by comple...</td>\n",
              "      <td>NaN</td>\n",
              "      <td>0</td>\n",
              "      <td>1</td>\n",
              "      <td>0</td>\n",
              "      <td>0.160255</td>\n",
              "      <td>4.600000</td>\n",
              "      <td>72148</td>\n",
              "      <td>216840</td>\n",
              "      <td>$22.99</td>\n",
              "      <td>English</td>\n",
              "      <td>English,French</td>\n",
              "      <td>1</td>\n",
              "      <td>Joseph Phillips</td>\n",
              "      <td>NaN</td>\n",
              "    </tr>\n",
              "    <tr>\n",
              "      <th>2</th>\n",
              "      <td>Tableau 2020 A-Z: Hands-On Tableau Training fo...</td>\n",
              "      <td>https://www.udemy.com/course/tableau10/</td>\n",
              "      <td>Business,Business Analytics &amp; Intelligence,Tab...</td>\n",
              "      <td>Learn Tableau 2020 for data science step by st...</td>\n",
              "      <td>NaN</td>\n",
              "      <td>0</td>\n",
              "      <td>0</td>\n",
              "      <td>0</td>\n",
              "      <td>0.156830</td>\n",
              "      <td>4.600000</td>\n",
              "      <td>70606</td>\n",
              "      <td>262889</td>\n",
              "      <td>$23.99</td>\n",
              "      <td>English</td>\n",
              "      <td>English,French</td>\n",
              "      <td>1</td>\n",
              "      <td>Kirill Eremenko, Ligency Team</td>\n",
              "      <td>NaN</td>\n",
              "    </tr>\n",
              "    <tr>\n",
              "      <th>3</th>\n",
              "      <td>Microsoft Power BI - A Complete Introduction [...</td>\n",
              "      <td>https://www.udemy.com/course/powerbi-complete-...</td>\n",
              "      <td>Business Analytics &amp; Intelligence,Microsoft Po...</td>\n",
              "      <td>Learn how to use Microsoft's Power BI Tools, i...</td>\n",
              "      <td>NaN</td>\n",
              "      <td>0</td>\n",
              "      <td>1</td>\n",
              "      <td>0</td>\n",
              "      <td>0.111617</td>\n",
              "      <td>4.600000</td>\n",
              "      <td>50251</td>\n",
              "      <td>180836</td>\n",
              "      <td>$19.99</td>\n",
              "      <td>English</td>\n",
              "      <td>English,French</td>\n",
              "      <td>1</td>\n",
              "      <td>Manuel Lorenz, Academind by Maximilian Schwarz...</td>\n",
              "      <td>NaN</td>\n",
              "    </tr>\n",
              "    <tr>\n",
              "      <th>4</th>\n",
              "      <td>Agile Crash Course: Agile Project Management; ...</td>\n",
              "      <td>https://www.udemy.com/course/agile-crash-course/</td>\n",
              "      <td>Business,Project Management,Agile</td>\n",
              "      <td>Get Agile Certified &amp; Learn about the key and ...</td>\n",
              "      <td>NaN</td>\n",
              "      <td>0</td>\n",
              "      <td>0</td>\n",
              "      <td>0</td>\n",
              "      <td>0.106779</td>\n",
              "      <td>4.400000</td>\n",
              "      <td>50258</td>\n",
              "      <td>149096</td>\n",
              "      <td>$29.99</td>\n",
              "      <td>English</td>\n",
              "      <td>English,French</td>\n",
              "      <td>1</td>\n",
              "      <td>Mauricio Rubio - Agile Guru &amp; Founder of Agile...</td>\n",
              "      <td>NaN</td>\n",
              "    </tr>\n",
              "    <tr>\n",
              "      <th>...</th>\n",
              "      <td>...</td>\n",
              "      <td>...</td>\n",
              "      <td>...</td>\n",
              "      <td>...</td>\n",
              "      <td>...</td>\n",
              "      <td>...</td>\n",
              "      <td>...</td>\n",
              "      <td>...</td>\n",
              "      <td>...</td>\n",
              "      <td>...</td>\n",
              "      <td>...</td>\n",
              "      <td>...</td>\n",
              "      <td>...</td>\n",
              "      <td>...</td>\n",
              "      <td>...</td>\n",
              "      <td>...</td>\n",
              "      <td>...</td>\n",
              "      <td>...</td>\n",
              "    </tr>\n",
              "    <tr>\n",
              "      <th>9981</th>\n",
              "      <td>PMI ACP Agile Certified Practitioner Practice ...</td>\n",
              "      <td>https://www.udemy.com/course/pmi-acp-agile-cer...</td>\n",
              "      <td>Project Management,PMI-ACP</td>\n",
              "      <td>A practice tests designed to cover all the top...</td>\n",
              "      <td>NaN</td>\n",
              "      <td>0</td>\n",
              "      <td>1</td>\n",
              "      <td>0</td>\n",
              "      <td>0.000000</td>\n",
              "      <td>4.241297</td>\n",
              "      <td>0</td>\n",
              "      <td>0</td>\n",
              "      <td>$14.99</td>\n",
              "      <td>English</td>\n",
              "      <td>English(default)</td>\n",
              "      <td>1</td>\n",
              "      <td>Ashutosh Deshmukh</td>\n",
              "      <td>NaN</td>\n",
              "    </tr>\n",
              "    <tr>\n",
              "      <th>9982</th>\n",
              "      <td>Failure Mode Effect Analysis for Process Risk ...</td>\n",
              "      <td>https://www.udemy.com/course/fmea-for-process-...</td>\n",
              "      <td>Business,Industry,Failure Mode and Effects Ana...</td>\n",
              "      <td>Include supplier quality audit in FMEA and FME...</td>\n",
              "      <td>NaN</td>\n",
              "      <td>0</td>\n",
              "      <td>0</td>\n",
              "      <td>0</td>\n",
              "      <td>0.000000</td>\n",
              "      <td>4.241297</td>\n",
              "      <td>0</td>\n",
              "      <td>0</td>\n",
              "      <td>$14.99</td>\n",
              "      <td>English</td>\n",
              "      <td>English</td>\n",
              "      <td>1</td>\n",
              "      <td>Evelyn 7E academy</td>\n",
              "      <td>NaN</td>\n",
              "    </tr>\n",
              "    <tr>\n",
              "      <th>9983</th>\n",
              "      <td>Bignners to Pro Course on Financial Modeling a...</td>\n",
              "      <td>https://www.udemy.com/course/bignners-to-pro-c...</td>\n",
              "      <td>Business,Business Strategy,Financial Modeling</td>\n",
              "      <td>Financial Modeling and Valuation</td>\n",
              "      <td>NaN</td>\n",
              "      <td>0</td>\n",
              "      <td>0</td>\n",
              "      <td>0</td>\n",
              "      <td>0.000000</td>\n",
              "      <td>4.241297</td>\n",
              "      <td>0</td>\n",
              "      <td>1</td>\n",
              "      <td>$14.99</td>\n",
              "      <td>English</td>\n",
              "      <td>English</td>\n",
              "      <td>1</td>\n",
              "      <td>Harsh Barar</td>\n",
              "      <td>NaN</td>\n",
              "    </tr>\n",
              "    <tr>\n",
              "      <th>9984</th>\n",
              "      <td>The Real Estate Invoice Contract Download &amp; Guide</td>\n",
              "      <td>https://www.udemy.com/course/the-real-estate-i...</td>\n",
              "      <td>Business,Real Estate,Real Estate Investing</td>\n",
              "      <td>Download A Copy Of My PROVEN Real Estate Invoi...</td>\n",
              "      <td>NaN</td>\n",
              "      <td>0</td>\n",
              "      <td>0</td>\n",
              "      <td>0</td>\n",
              "      <td>0.000000</td>\n",
              "      <td>4.241297</td>\n",
              "      <td>0</td>\n",
              "      <td>49</td>\n",
              "      <td>$14.99</td>\n",
              "      <td>English</td>\n",
              "      <td>English</td>\n",
              "      <td>1</td>\n",
              "      <td>Ben Clardy</td>\n",
              "      <td>NaN</td>\n",
              "    </tr>\n",
              "    <tr>\n",
              "      <th>9985</th>\n",
              "      <td>Behavioral and Disciplinary Issues Resolution(...</td>\n",
              "      <td>https://www.udemy.com/course/behavioral-and-di...</td>\n",
              "      <td>Business,Human Resources</td>\n",
              "      <td>Course 17 of 20 of The Human Resources Certifi...</td>\n",
              "      <td>NaN</td>\n",
              "      <td>0</td>\n",
              "      <td>0</td>\n",
              "      <td>0</td>\n",
              "      <td>0.000000</td>\n",
              "      <td>4.241297</td>\n",
              "      <td>0</td>\n",
              "      <td>0</td>\n",
              "      <td>$14.99</td>\n",
              "      <td>English</td>\n",
              "      <td>English</td>\n",
              "      <td>1</td>\n",
              "      <td>Sorin Dumitrascu</td>\n",
              "      <td>NaN</td>\n",
              "    </tr>\n",
              "  </tbody>\n",
              "</table>\n",
              "<p>9892 rows × 18 columns</p>\n",
              "</div>"
            ],
            "text/plain": [
              "                                            Course Name  ... Image URL\n",
              "0     The Complete SQL Bootcamp 2021: Go from Zero t...  ...       NaN\n",
              "1     PMP Exam Prep Seminar - 2021 Exam Content with...  ...       NaN\n",
              "2     Tableau 2020 A-Z: Hands-On Tableau Training fo...  ...       NaN\n",
              "3     Microsoft Power BI - A Complete Introduction [...  ...       NaN\n",
              "4     Agile Crash Course: Agile Project Management; ...  ...       NaN\n",
              "...                                                 ...  ...       ...\n",
              "9981  PMI ACP Agile Certified Practitioner Practice ...  ...       NaN\n",
              "9982  Failure Mode Effect Analysis for Process Risk ...  ...       NaN\n",
              "9983  Bignners to Pro Course on Financial Modeling a...  ...       NaN\n",
              "9984  The Real Estate Invoice Contract Download & Guide  ...       NaN\n",
              "9985  Behavioral and Disciplinary Issues Resolution(...  ...       NaN\n",
              "\n",
              "[9892 rows x 18 columns]"
            ]
          },
          "metadata": {},
          "execution_count": 433
        }
      ]
    },
    {
      "cell_type": "markdown",
      "metadata": {
        "id": "_UbYAEjDU9sP"
      },
      "source": [
        "## Save Output to file"
      ]
    },
    {
      "cell_type": "code",
      "metadata": {
        "id": "cesQhGXjUJ13"
      },
      "source": [
        "filename = 'p_Udemy_business.csv'\n",
        "final.to_csv('p_datasets/'+filename, index=False, encoding='utf_8_sig')"
      ],
      "execution_count": null,
      "outputs": []
    },
    {
      "cell_type": "markdown",
      "metadata": {
        "id": "DGEjHnufLUJD"
      },
      "source": [
        "## Combine all to one"
      ]
    },
    {
      "cell_type": "code",
      "metadata": {
        "id": "Updx_-PyLYb3",
        "colab": {
          "base_uri": "https://localhost:8080/"
        },
        "outputId": "74b79abf-4b52-4cba-9b77-d47bf6cb6c36"
      },
      "source": [
        "import os\n",
        "\n",
        "os.chdir('/content')\n",
        "dirname = 'p_datasets'\n",
        "filelist = os.listdir(dirname)\n",
        "filelist = [file for file in filelist if 'p_' in file]\n",
        "filelist"
      ],
      "execution_count": null,
      "outputs": [
        {
          "output_type": "execute_result",
          "data": {
            "text/plain": [
              "['p_Udemy_design.csv',\n",
              " 'p_Udemy_business.csv',\n",
              " 'p_Udemy_personalDev.csv',\n",
              " 'p_Udemy_music.csv',\n",
              " 'p_Udemy_itNsoftware.csv',\n",
              " 'p_Udemy_officeProductivity.csv',\n",
              " 'p_Udemy_lifestyle.csv',\n",
              " 'p_Udemy_financeNaccounting.csv',\n",
              " 'p_Udemy_teachNacademic.csv',\n",
              " 'p_Udemy_marketing.csv',\n",
              " 'p_Udemy_development.csv',\n",
              " 'p_Udemy_photoNvideo.csv',\n",
              " 'p_Udemy_healthNfit.csv']"
            ]
          },
          "metadata": {},
          "execution_count": 435
        }
      ]
    },
    {
      "cell_type": "code",
      "metadata": {
        "id": "gRLVEQlzQO6x"
      },
      "source": [
        "os.chdir('p_datasets')\n",
        "fulldataset = pd.DataFrame()\n",
        "for file in filelist:\n",
        "  data = pd.read_csv(file)\n",
        "  fulldataset = pd.concat([fulldataset,data])\n"
      ],
      "execution_count": null,
      "outputs": []
    },
    {
      "cell_type": "code",
      "metadata": {
        "colab": {
          "base_uri": "https://localhost:8080/",
          "height": 1000
        },
        "id": "-zxQ7bdqR2Wi",
        "outputId": "43ad0084-928c-455e-b881-832d8242f518"
      },
      "source": [
        "fulldataset"
      ],
      "execution_count": null,
      "outputs": [
        {
          "output_type": "execute_result",
          "data": {
            "text/html": [
              "<div>\n",
              "<style scoped>\n",
              "    .dataframe tbody tr th:only-of-type {\n",
              "        vertical-align: middle;\n",
              "    }\n",
              "\n",
              "    .dataframe tbody tr th {\n",
              "        vertical-align: top;\n",
              "    }\n",
              "\n",
              "    .dataframe thead th {\n",
              "        text-align: right;\n",
              "    }\n",
              "</style>\n",
              "<table border=\"1\" class=\"dataframe\">\n",
              "  <thead>\n",
              "    <tr style=\"text-align: right;\">\n",
              "      <th></th>\n",
              "      <th>Course Name</th>\n",
              "      <th>Course URL</th>\n",
              "      <th>Categories</th>\n",
              "      <th>Short Description</th>\n",
              "      <th>Long Description</th>\n",
              "      <th>Difficulty</th>\n",
              "      <th>Duration</th>\n",
              "      <th>Free Option</th>\n",
              "      <th>Rating</th>\n",
              "      <th>Original rating</th>\n",
              "      <th>Numberofrated</th>\n",
              "      <th>Numberofenroll</th>\n",
              "      <th>Paid Option</th>\n",
              "      <th>Language</th>\n",
              "      <th>Subtitle Language</th>\n",
              "      <th>Platform</th>\n",
              "      <th>Provider</th>\n",
              "      <th>Image URL</th>\n",
              "    </tr>\n",
              "  </thead>\n",
              "  <tbody>\n",
              "    <tr>\n",
              "      <th>0</th>\n",
              "      <td>The Ultimate Drawing Course - Beginner to Adva...</td>\n",
              "      <td>https://www.udemy.com/course/the-ultimate-draw...</td>\n",
              "      <td>Graphic Design &amp; Illustration,Drawing</td>\n",
              "      <td>Learn the #1 most important building block of ...</td>\n",
              "      <td>NaN</td>\n",
              "      <td>0</td>\n",
              "      <td>1</td>\n",
              "      <td>0</td>\n",
              "      <td>0.200174</td>\n",
              "      <td>4.600000</td>\n",
              "      <td>109305</td>\n",
              "      <td>453470</td>\n",
              "      <td>NT$470</td>\n",
              "      <td>English</td>\n",
              "      <td>English,French</td>\n",
              "      <td>1</td>\n",
              "      <td>Jaysen Batchelor, Quinton Ross</td>\n",
              "      <td>NaN</td>\n",
              "    </tr>\n",
              "    <tr>\n",
              "      <th>1</th>\n",
              "      <td>Character Art School: Complete Character Drawi...</td>\n",
              "      <td>https://www.udemy.com/course/character-art-sch...</td>\n",
              "      <td>Design,Other Design,Character Design</td>\n",
              "      <td>Learn How to Draw People and Character Designs...</td>\n",
              "      <td>NaN</td>\n",
              "      <td>0</td>\n",
              "      <td>1</td>\n",
              "      <td>0</td>\n",
              "      <td>0.106542</td>\n",
              "      <td>4.600000</td>\n",
              "      <td>58177</td>\n",
              "      <td>260798</td>\n",
              "      <td>NT$470</td>\n",
              "      <td>English</td>\n",
              "      <td>English,French</td>\n",
              "      <td>1</td>\n",
              "      <td>Scott Harris</td>\n",
              "      <td>NaN</td>\n",
              "    </tr>\n",
              "    <tr>\n",
              "      <th>2</th>\n",
              "      <td>Complete Blender Creator: Learn 3D Modelling f...</td>\n",
              "      <td>https://www.udemy.com/course/blendertutorial/</td>\n",
              "      <td>Design,3D &amp; Animation,Blender</td>\n",
              "      <td>Use Blender to Create Beautiful 3D models for ...</td>\n",
              "      <td>NaN</td>\n",
              "      <td>0</td>\n",
              "      <td>1</td>\n",
              "      <td>0</td>\n",
              "      <td>0.086477</td>\n",
              "      <td>4.600000</td>\n",
              "      <td>47221</td>\n",
              "      <td>238288</td>\n",
              "      <td>NT$470</td>\n",
              "      <td>English</td>\n",
              "      <td>English,French</td>\n",
              "      <td>1</td>\n",
              "      <td>GameDev.tv Team, Rick Davidson, Grant Abbitt</td>\n",
              "      <td>NaN</td>\n",
              "    </tr>\n",
              "    <tr>\n",
              "      <th>3</th>\n",
              "      <td>Design Thinking in 3 Steps</td>\n",
              "      <td>https://www.udemy.com/course/designit-design-t...</td>\n",
              "      <td>Design,User Experience Design,Design Thinking</td>\n",
              "      <td>Understand your audience, envision a creative ...</td>\n",
              "      <td>NaN</td>\n",
              "      <td>0</td>\n",
              "      <td>0</td>\n",
              "      <td>0</td>\n",
              "      <td>0.065123</td>\n",
              "      <td>4.400000</td>\n",
              "      <td>37177</td>\n",
              "      <td>83499</td>\n",
              "      <td>NT$6,590</td>\n",
              "      <td>English</td>\n",
              "      <td>English,French</td>\n",
              "      <td>1</td>\n",
              "      <td>Designit Strategic Design, Alan Cooper</td>\n",
              "      <td>NaN</td>\n",
              "    </tr>\n",
              "    <tr>\n",
              "      <th>4</th>\n",
              "      <td>User Experience Design Essentials - Adobe XD U...</td>\n",
              "      <td>https://www.udemy.com/course/ui-ux-web-design-...</td>\n",
              "      <td>Design,User Experience Design,User Interface</td>\n",
              "      <td>Use XD to get a job in UI Design, User Interfa...</td>\n",
              "      <td>NaN</td>\n",
              "      <td>0</td>\n",
              "      <td>1</td>\n",
              "      <td>0</td>\n",
              "      <td>0.063100</td>\n",
              "      <td>4.600000</td>\n",
              "      <td>34456</td>\n",
              "      <td>136757</td>\n",
              "      <td>NT$470</td>\n",
              "      <td>English</td>\n",
              "      <td>English,French</td>\n",
              "      <td>1</td>\n",
              "      <td>Daniel Walter Scott</td>\n",
              "      <td>NaN</td>\n",
              "    </tr>\n",
              "    <tr>\n",
              "      <th>...</th>\n",
              "      <td>...</td>\n",
              "      <td>...</td>\n",
              "      <td>...</td>\n",
              "      <td>...</td>\n",
              "      <td>...</td>\n",
              "      <td>...</td>\n",
              "      <td>...</td>\n",
              "      <td>...</td>\n",
              "      <td>...</td>\n",
              "      <td>...</td>\n",
              "      <td>...</td>\n",
              "      <td>...</td>\n",
              "      <td>...</td>\n",
              "      <td>...</td>\n",
              "      <td>...</td>\n",
              "      <td>...</td>\n",
              "      <td>...</td>\n",
              "      <td>...</td>\n",
              "    </tr>\n",
              "    <tr>\n",
              "      <th>5609</th>\n",
              "      <td>Limit Sugar Sweetened Beverages to Not More Th...</td>\n",
              "      <td>https://www.udemy.com/course/limit-sugar-sweet...</td>\n",
              "      <td>Health &amp; Fitness,Nutrition</td>\n",
              "      <td>Recommendation #21 of 30 for Optimizing Health...</td>\n",
              "      <td>NaN</td>\n",
              "      <td>0</td>\n",
              "      <td>0</td>\n",
              "      <td>1</td>\n",
              "      <td>0.000000</td>\n",
              "      <td>4.446485</td>\n",
              "      <td>0</td>\n",
              "      <td>214</td>\n",
              "      <td>0</td>\n",
              "      <td>English</td>\n",
              "      <td>English</td>\n",
              "      <td>1</td>\n",
              "      <td>Nicholas Cohen, MD</td>\n",
              "      <td>NaN</td>\n",
              "    </tr>\n",
              "    <tr>\n",
              "      <th>5610</th>\n",
              "      <td>Limit Processed Foods to Not More Than One Ser...</td>\n",
              "      <td>https://www.udemy.com/course/limit-processed-f...</td>\n",
              "      <td>Health &amp; Fitness,Nutrition</td>\n",
              "      <td>Recommendation #22 of 31 for Optimizing Health...</td>\n",
              "      <td>NaN</td>\n",
              "      <td>0</td>\n",
              "      <td>0</td>\n",
              "      <td>1</td>\n",
              "      <td>0.000006</td>\n",
              "      <td>4.446485</td>\n",
              "      <td>1</td>\n",
              "      <td>202</td>\n",
              "      <td>0</td>\n",
              "      <td>English</td>\n",
              "      <td>English</td>\n",
              "      <td>1</td>\n",
              "      <td>Nicholas Cohen, MD</td>\n",
              "      <td>NaN</td>\n",
              "    </tr>\n",
              "    <tr>\n",
              "      <th>5611</th>\n",
              "      <td>how to be an expert in the word of bodybuilding</td>\n",
              "      <td>https://www.udemy.com/course/how-to-be-an-expe...</td>\n",
              "      <td>Health &amp; Fitness,Fitness,Health</td>\n",
              "      <td>The comprehensive guide: prepares you to be an...</td>\n",
              "      <td>NaN</td>\n",
              "      <td>0</td>\n",
              "      <td>0</td>\n",
              "      <td>1</td>\n",
              "      <td>0.000000</td>\n",
              "      <td>4.446485</td>\n",
              "      <td>0</td>\n",
              "      <td>347</td>\n",
              "      <td>0</td>\n",
              "      <td>English</td>\n",
              "      <td>English</td>\n",
              "      <td>1</td>\n",
              "      <td>Anas Idrissi</td>\n",
              "      <td>NaN</td>\n",
              "    </tr>\n",
              "    <tr>\n",
              "      <th>5612</th>\n",
              "      <td>Meditation - The Art of Inner Peace and Happin...</td>\n",
              "      <td>https://www.udemy.com/course/meditation-the-ar...</td>\n",
              "      <td>Health &amp; Fitness,Meditation</td>\n",
              "      <td>This is Part 5 of Meditation - The Art of Inne...</td>\n",
              "      <td>NaN</td>\n",
              "      <td>0</td>\n",
              "      <td>0</td>\n",
              "      <td>1</td>\n",
              "      <td>0.000000</td>\n",
              "      <td>4.446485</td>\n",
              "      <td>0</td>\n",
              "      <td>222</td>\n",
              "      <td>0</td>\n",
              "      <td>English</td>\n",
              "      <td>English</td>\n",
              "      <td>1</td>\n",
              "      <td>Nima King</td>\n",
              "      <td>NaN</td>\n",
              "    </tr>\n",
              "    <tr>\n",
              "      <th>5613</th>\n",
              "      <td>Aim for a Resting Heart Rate Below 60 Beats Pe...</td>\n",
              "      <td>https://www.udemy.com/course/aim-for-a-resting...</td>\n",
              "      <td>Health &amp; Fitness,General Health,Healthcare</td>\n",
              "      <td>Recomendation #26 of 30 for Optimizing Health ...</td>\n",
              "      <td>NaN</td>\n",
              "      <td>0</td>\n",
              "      <td>0</td>\n",
              "      <td>1</td>\n",
              "      <td>0.000000</td>\n",
              "      <td>4.446485</td>\n",
              "      <td>0</td>\n",
              "      <td>136</td>\n",
              "      <td>0</td>\n",
              "      <td>English</td>\n",
              "      <td>English</td>\n",
              "      <td>1</td>\n",
              "      <td>Nicholas Cohen, MD</td>\n",
              "      <td>NaN</td>\n",
              "    </tr>\n",
              "  </tbody>\n",
              "</table>\n",
              "<p>83922 rows × 18 columns</p>\n",
              "</div>"
            ],
            "text/plain": [
              "                                            Course Name  ... Image URL\n",
              "0     The Ultimate Drawing Course - Beginner to Adva...  ...       NaN\n",
              "1     Character Art School: Complete Character Drawi...  ...       NaN\n",
              "2     Complete Blender Creator: Learn 3D Modelling f...  ...       NaN\n",
              "3                            Design Thinking in 3 Steps  ...       NaN\n",
              "4     User Experience Design Essentials - Adobe XD U...  ...       NaN\n",
              "...                                                 ...  ...       ...\n",
              "5609  Limit Sugar Sweetened Beverages to Not More Th...  ...       NaN\n",
              "5610  Limit Processed Foods to Not More Than One Ser...  ...       NaN\n",
              "5611    how to be an expert in the word of bodybuilding  ...       NaN\n",
              "5612  Meditation - The Art of Inner Peace and Happin...  ...       NaN\n",
              "5613  Aim for a Resting Heart Rate Below 60 Beats Pe...  ...       NaN\n",
              "\n",
              "[83922 rows x 18 columns]"
            ]
          },
          "metadata": {},
          "execution_count": 437
        }
      ]
    },
    {
      "cell_type": "code",
      "metadata": {
        "colab": {
          "base_uri": "https://localhost:8080/"
        },
        "id": "qSUaHP2_xPVf",
        "outputId": "833754eb-35b1-424a-d84c-d996daea075f"
      },
      "source": [
        "len(fulldataset['Course Name'].unique())"
      ],
      "execution_count": null,
      "outputs": [
        {
          "output_type": "execute_result",
          "data": {
            "text/plain": [
              "79286"
            ]
          },
          "metadata": {},
          "execution_count": 438
        }
      ]
    },
    {
      "cell_type": "code",
      "metadata": {
        "id": "sXkZG1uxxYX3"
      },
      "source": [
        "fulldataset = fulldataset.drop_duplicates(subset=['Course Name'])"
      ],
      "execution_count": null,
      "outputs": []
    },
    {
      "cell_type": "code",
      "metadata": {
        "colab": {
          "base_uri": "https://localhost:8080/"
        },
        "id": "a0ePio8hiQpp",
        "outputId": "3b8b6430-a951-41d6-f5f2-6f7e47f56bcc"
      },
      "source": [
        "len(fulldataset)"
      ],
      "execution_count": null,
      "outputs": [
        {
          "output_type": "execute_result",
          "data": {
            "text/plain": [
              "79286"
            ]
          },
          "metadata": {},
          "execution_count": 440
        }
      ]
    },
    {
      "cell_type": "code",
      "metadata": {
        "id": "E7-oMoH2Sn6u"
      },
      "source": [
        "fulldataset.to_csv('fulldataset.csv', index=False, encoding='utf_8_sig')"
      ],
      "execution_count": null,
      "outputs": []
    }
  ]
}